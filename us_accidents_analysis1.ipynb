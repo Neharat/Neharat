{
  "nbformat": 4,
  "nbformat_minor": 0,
  "metadata": {
    "kernelspec": {
      "display_name": "Python 3",
      "language": "python",
      "name": "python3"
    },
    "language_info": {
      "codemirror_mode": {
        "name": "ipython",
        "version": 3
      },
      "file_extension": ".py",
      "mimetype": "text/x-python",
      "name": "python",
      "nbconvert_exporter": "python",
      "pygments_lexer": "ipython3",
      "version": "3.7.6"
    },
    "colab": {
      "name": "us-accidents-analysis1.ipynb",
      "provenance": [],
      "collapsed_sections": [
        "FoNqcZuUQfG_",
        "LrmuXM_1ne03",
        "8h8OJQRQQiF0",
        "CUf35j9n9fBk"
      ],
      "toc_visible": true,
      "include_colab_link": true
    }
  },
  "cells": [
    {
      "cell_type": "markdown",
      "metadata": {
        "id": "view-in-github",
        "colab_type": "text"
      },
      "source": [
        "<a href=\"https://colab.research.google.com/github/Neharat/Neharat/blob/main/us_accidents_analysis1.ipynb\" target=\"_parent\"><img src=\"https://colab.research.google.com/assets/colab-badge.svg\" alt=\"Open In Colab\"/></a>"
      ]
    },
    {
      "cell_type": "code",
      "metadata": {
        "colab": {
          "base_uri": "https://localhost:8080/"
        },
        "id": "txOrcth_zYav",
        "outputId": "ec1dfc53-2360-493a-d76e-4888a7f49eef"
      },
      "source": [
        "# Jovian Commit Essentials\n",
        "# Please retain and execute this cell without modifying the contents for `jovian.commit` to work\n",
        "!pip install jovian --upgrade -q\n",
        "import jovian\n",
        "jovian.set_project('us-accidents-analysis1')\n",
        "jovian.set_colab_id('1Bzl3pZH61YnWnIfIrqJ5FX6xdqUrhsHE')"
      ],
      "execution_count": null,
      "outputs": [
        {
          "output_type": "stream",
          "text": [
            "\u001b[?25l\r\u001b[K     |████▊                           | 10 kB 25.0 MB/s eta 0:00:01\r\u001b[K     |█████████▌                      | 20 kB 11.8 MB/s eta 0:00:01\r\u001b[K     |██████████████▎                 | 30 kB 7.5 MB/s eta 0:00:01\r\u001b[K     |███████████████████             | 40 kB 3.6 MB/s eta 0:00:01\r\u001b[K     |███████████████████████▉        | 51 kB 4.2 MB/s eta 0:00:01\r\u001b[K     |████████████████████████████▋   | 61 kB 4.7 MB/s eta 0:00:01\r\u001b[K     |████████████████████████████████| 68 kB 2.5 MB/s \n",
            "\u001b[?25h  Building wheel for uuid (setup.py) ... \u001b[?25l\u001b[?25hdone\n"
          ],
          "name": "stdout"
        }
      ]
    },
    {
      "cell_type": "markdown",
      "metadata": {
        "id": "5IwPBwQN7zj6"
      },
      "source": [
        "#US Accidents Exploratory Data Analysis\n",
        "\n",
        "TODO - Talk about EDA\n",
        "TODO - Talk about the dataset (source , what it contains, how it will be useful\n",
        "\n",
        "*   Kaggle\n",
        "*   Information about accidents\n",
        "*   Can use use to prevent accidents\n",
        "*   This does not contain data about New York\n",
        "\n",
        "\n",
        "\n",
        "\n"
      ]
    },
    {
      "cell_type": "markdown",
      "metadata": {
        "id": "09ckNwQy8SKy"
      },
      "source": [
        "## Download the data"
      ]
    },
    {
      "cell_type": "code",
      "metadata": {
        "id": "qPKIgCYK8S8Y"
      },
      "source": [
        "pip install opendatasets --upgrade --quiet ##Adding quite simply remove the pip command\n"
      ],
      "execution_count": 3,
      "outputs": []
    },
    {
      "cell_type": "code",
      "metadata": {
        "colab": {
          "base_uri": "https://localhost:8080/"
        },
        "id": "lL1aCDnxzYa3",
        "outputId": "a06309a2-8163-4980-b04e-b0b7aec81478"
      },
      "source": [
        "\\\n",
        "import opendatasets as od\n",
        "download_url = 'https://www.kaggle.com/sobhanmoosavi/us-accidents'\n",
        "od.download(download_url)"
      ],
      "execution_count": 4,
      "outputs": [
        {
          "output_type": "stream",
          "text": [
            "Please provide your Kaggle credentials to download this dataset. Learn more: http://bit.ly/kaggle-creds\n",
            "Your Kaggle username: neharathore85\n",
            "Your Kaggle Key: ··········\n",
            "Downloading us-accidents.zip to ./us-accidents\n"
          ],
          "name": "stdout"
        },
        {
          "output_type": "stream",
          "text": [
            "100%|██████████| 290M/290M [00:01<00:00, 208MB/s]\n"
          ],
          "name": "stderr"
        },
        {
          "output_type": "stream",
          "text": [
            "\n"
          ],
          "name": "stdout"
        }
      ]
    },
    {
      "cell_type": "code",
      "metadata": {
        "id": "Bn7WbV9Z86TD"
      },
      "source": [
        "data_filename = './us-accidents/US_Accidents_Dec20_Updated.csv'"
      ],
      "execution_count": 5,
      "outputs": []
    },
    {
      "cell_type": "markdown",
      "metadata": {
        "id": "_hKjy7peCkLE"
      },
      "source": [
        "##Data Preparation & cleaning using Pandas & Numpy\n",
        "\n",
        "*   Load the file using Pandas\n",
        "*   Look at some information about data & the colomns\n",
        "*   Fix any missing or incorrect values\n",
        "\n"
      ]
    },
    {
      "cell_type": "code",
      "metadata": {
        "id": "tcuJ2IIj8-ut"
      },
      "source": [
        "import pandas as pd"
      ],
      "execution_count": 6,
      "outputs": []
    },
    {
      "cell_type": "code",
      "metadata": {
        "id": "IMw0bBVj9BMc"
      },
      "source": [
        "df = pd.read_csv(data_filename)"
      ],
      "execution_count": 7,
      "outputs": []
    },
    {
      "cell_type": "code",
      "metadata": {
        "colab": {
          "base_uri": "https://localhost:8080/",
          "height": 964
        },
        "id": "X1ZMdrpl9A8K",
        "outputId": "67e85dd1-627d-45f6-eeab-386b7b1df3d4"
      },
      "source": [
        "df"
      ],
      "execution_count": 8,
      "outputs": [
        {
          "output_type": "execute_result",
          "data": {
            "text/html": [
              "<div>\n",
              "<style scoped>\n",
              "    .dataframe tbody tr th:only-of-type {\n",
              "        vertical-align: middle;\n",
              "    }\n",
              "\n",
              "    .dataframe tbody tr th {\n",
              "        vertical-align: top;\n",
              "    }\n",
              "\n",
              "    .dataframe thead th {\n",
              "        text-align: right;\n",
              "    }\n",
              "</style>\n",
              "<table border=\"1\" class=\"dataframe\">\n",
              "  <thead>\n",
              "    <tr style=\"text-align: right;\">\n",
              "      <th></th>\n",
              "      <th>ID</th>\n",
              "      <th>Severity</th>\n",
              "      <th>Start_Time</th>\n",
              "      <th>End_Time</th>\n",
              "      <th>Start_Lat</th>\n",
              "      <th>Start_Lng</th>\n",
              "      <th>End_Lat</th>\n",
              "      <th>End_Lng</th>\n",
              "      <th>Distance(mi)</th>\n",
              "      <th>Description</th>\n",
              "      <th>Number</th>\n",
              "      <th>Street</th>\n",
              "      <th>Side</th>\n",
              "      <th>City</th>\n",
              "      <th>County</th>\n",
              "      <th>State</th>\n",
              "      <th>Zipcode</th>\n",
              "      <th>Country</th>\n",
              "      <th>Timezone</th>\n",
              "      <th>Airport_Code</th>\n",
              "      <th>Weather_Timestamp</th>\n",
              "      <th>Temperature(F)</th>\n",
              "      <th>Wind_Chill(F)</th>\n",
              "      <th>Humidity(%)</th>\n",
              "      <th>Pressure(in)</th>\n",
              "      <th>Visibility(mi)</th>\n",
              "      <th>Wind_Direction</th>\n",
              "      <th>Wind_Speed(mph)</th>\n",
              "      <th>Precipitation(in)</th>\n",
              "      <th>Weather_Condition</th>\n",
              "      <th>Amenity</th>\n",
              "      <th>Bump</th>\n",
              "      <th>Crossing</th>\n",
              "      <th>Give_Way</th>\n",
              "      <th>Junction</th>\n",
              "      <th>No_Exit</th>\n",
              "      <th>Railway</th>\n",
              "      <th>Roundabout</th>\n",
              "      <th>Station</th>\n",
              "      <th>Stop</th>\n",
              "      <th>Traffic_Calming</th>\n",
              "      <th>Traffic_Signal</th>\n",
              "      <th>Turning_Loop</th>\n",
              "      <th>Sunrise_Sunset</th>\n",
              "      <th>Civil_Twilight</th>\n",
              "      <th>Nautical_Twilight</th>\n",
              "      <th>Astronomical_Twilight</th>\n",
              "    </tr>\n",
              "  </thead>\n",
              "  <tbody>\n",
              "    <tr>\n",
              "      <th>0</th>\n",
              "      <td>A-1</td>\n",
              "      <td>2</td>\n",
              "      <td>2019-05-21 08:29:55</td>\n",
              "      <td>2019-05-21 09:29:40</td>\n",
              "      <td>34.808868</td>\n",
              "      <td>-82.269157</td>\n",
              "      <td>34.808868</td>\n",
              "      <td>-82.269157</td>\n",
              "      <td>0.000</td>\n",
              "      <td>Accident on Tanner Rd at Pennbrooke Ln.</td>\n",
              "      <td>439.0</td>\n",
              "      <td>Tanner Rd</td>\n",
              "      <td>R</td>\n",
              "      <td>Greenville</td>\n",
              "      <td>Greenville</td>\n",
              "      <td>SC</td>\n",
              "      <td>29607-6027</td>\n",
              "      <td>US</td>\n",
              "      <td>US/Eastern</td>\n",
              "      <td>KGMU</td>\n",
              "      <td>2019-05-21 08:53:00</td>\n",
              "      <td>76.0</td>\n",
              "      <td>76.0</td>\n",
              "      <td>52.0</td>\n",
              "      <td>28.91</td>\n",
              "      <td>10.0</td>\n",
              "      <td>N</td>\n",
              "      <td>7.0</td>\n",
              "      <td>0.0</td>\n",
              "      <td>Fair</td>\n",
              "      <td>False</td>\n",
              "      <td>False</td>\n",
              "      <td>False</td>\n",
              "      <td>False</td>\n",
              "      <td>False</td>\n",
              "      <td>False</td>\n",
              "      <td>False</td>\n",
              "      <td>False</td>\n",
              "      <td>False</td>\n",
              "      <td>False</td>\n",
              "      <td>False</td>\n",
              "      <td>False</td>\n",
              "      <td>False</td>\n",
              "      <td>Day</td>\n",
              "      <td>Day</td>\n",
              "      <td>Day</td>\n",
              "      <td>Day</td>\n",
              "    </tr>\n",
              "    <tr>\n",
              "      <th>1</th>\n",
              "      <td>A-2</td>\n",
              "      <td>2</td>\n",
              "      <td>2019-10-07 17:43:09</td>\n",
              "      <td>2019-10-07 19:42:50</td>\n",
              "      <td>35.090080</td>\n",
              "      <td>-80.745560</td>\n",
              "      <td>35.090080</td>\n",
              "      <td>-80.745560</td>\n",
              "      <td>0.000</td>\n",
              "      <td>Accident on Houston Branch Rd at Providence Br...</td>\n",
              "      <td>3299.0</td>\n",
              "      <td>Providence Branch Ln</td>\n",
              "      <td>R</td>\n",
              "      <td>Charlotte</td>\n",
              "      <td>Mecklenburg</td>\n",
              "      <td>NC</td>\n",
              "      <td>28270-8560</td>\n",
              "      <td>US</td>\n",
              "      <td>US/Eastern</td>\n",
              "      <td>KEQY</td>\n",
              "      <td>2019-10-07 17:53:00</td>\n",
              "      <td>76.0</td>\n",
              "      <td>76.0</td>\n",
              "      <td>62.0</td>\n",
              "      <td>29.30</td>\n",
              "      <td>10.0</td>\n",
              "      <td>VAR</td>\n",
              "      <td>3.0</td>\n",
              "      <td>0.0</td>\n",
              "      <td>Cloudy</td>\n",
              "      <td>False</td>\n",
              "      <td>False</td>\n",
              "      <td>False</td>\n",
              "      <td>False</td>\n",
              "      <td>False</td>\n",
              "      <td>False</td>\n",
              "      <td>False</td>\n",
              "      <td>False</td>\n",
              "      <td>False</td>\n",
              "      <td>False</td>\n",
              "      <td>False</td>\n",
              "      <td>False</td>\n",
              "      <td>False</td>\n",
              "      <td>Day</td>\n",
              "      <td>Day</td>\n",
              "      <td>Day</td>\n",
              "      <td>Day</td>\n",
              "    </tr>\n",
              "    <tr>\n",
              "      <th>2</th>\n",
              "      <td>A-3</td>\n",
              "      <td>2</td>\n",
              "      <td>2020-12-13 21:53:00</td>\n",
              "      <td>2020-12-13 22:44:00</td>\n",
              "      <td>37.145730</td>\n",
              "      <td>-121.985052</td>\n",
              "      <td>37.165850</td>\n",
              "      <td>-121.988062</td>\n",
              "      <td>1.400</td>\n",
              "      <td>Stationary traffic on CA-17 from Summit Rd (CA...</td>\n",
              "      <td>NaN</td>\n",
              "      <td>Santa Cruz Hwy</td>\n",
              "      <td>R</td>\n",
              "      <td>Los Gatos</td>\n",
              "      <td>Santa Clara</td>\n",
              "      <td>CA</td>\n",
              "      <td>95033</td>\n",
              "      <td>US</td>\n",
              "      <td>US/Pacific</td>\n",
              "      <td>KSJC</td>\n",
              "      <td>2020-12-13 21:53:00</td>\n",
              "      <td>51.0</td>\n",
              "      <td>51.0</td>\n",
              "      <td>80.0</td>\n",
              "      <td>30.17</td>\n",
              "      <td>10.0</td>\n",
              "      <td>W</td>\n",
              "      <td>6.0</td>\n",
              "      <td>0.0</td>\n",
              "      <td>Fair</td>\n",
              "      <td>False</td>\n",
              "      <td>False</td>\n",
              "      <td>False</td>\n",
              "      <td>False</td>\n",
              "      <td>False</td>\n",
              "      <td>False</td>\n",
              "      <td>False</td>\n",
              "      <td>False</td>\n",
              "      <td>False</td>\n",
              "      <td>False</td>\n",
              "      <td>False</td>\n",
              "      <td>False</td>\n",
              "      <td>False</td>\n",
              "      <td>Night</td>\n",
              "      <td>Night</td>\n",
              "      <td>Night</td>\n",
              "      <td>Night</td>\n",
              "    </tr>\n",
              "    <tr>\n",
              "      <th>3</th>\n",
              "      <td>A-4</td>\n",
              "      <td>2</td>\n",
              "      <td>2018-04-17 16:51:23</td>\n",
              "      <td>2018-04-17 17:50:46</td>\n",
              "      <td>39.110390</td>\n",
              "      <td>-119.773781</td>\n",
              "      <td>39.110390</td>\n",
              "      <td>-119.773781</td>\n",
              "      <td>0.000</td>\n",
              "      <td>Accident on US-395 Southbound at Topsy Ln.</td>\n",
              "      <td>NaN</td>\n",
              "      <td>US Highway 395 S</td>\n",
              "      <td>R</td>\n",
              "      <td>Carson City</td>\n",
              "      <td>Douglas</td>\n",
              "      <td>NV</td>\n",
              "      <td>89705</td>\n",
              "      <td>US</td>\n",
              "      <td>US/Pacific</td>\n",
              "      <td>KCXP</td>\n",
              "      <td>2018-04-17 16:55:00</td>\n",
              "      <td>53.6</td>\n",
              "      <td>NaN</td>\n",
              "      <td>16.0</td>\n",
              "      <td>30.16</td>\n",
              "      <td>10.0</td>\n",
              "      <td>SSW</td>\n",
              "      <td>4.6</td>\n",
              "      <td>NaN</td>\n",
              "      <td>Clear</td>\n",
              "      <td>False</td>\n",
              "      <td>False</td>\n",
              "      <td>False</td>\n",
              "      <td>False</td>\n",
              "      <td>False</td>\n",
              "      <td>False</td>\n",
              "      <td>False</td>\n",
              "      <td>False</td>\n",
              "      <td>False</td>\n",
              "      <td>False</td>\n",
              "      <td>False</td>\n",
              "      <td>True</td>\n",
              "      <td>False</td>\n",
              "      <td>Day</td>\n",
              "      <td>Day</td>\n",
              "      <td>Day</td>\n",
              "      <td>Day</td>\n",
              "    </tr>\n",
              "    <tr>\n",
              "      <th>4</th>\n",
              "      <td>A-5</td>\n",
              "      <td>3</td>\n",
              "      <td>2016-08-31 17:40:49</td>\n",
              "      <td>2016-08-31 18:10:49</td>\n",
              "      <td>26.102942</td>\n",
              "      <td>-80.265091</td>\n",
              "      <td>26.102942</td>\n",
              "      <td>-80.265091</td>\n",
              "      <td>0.000</td>\n",
              "      <td>Accident on I-595 Westbound at Exit 4 / Pine I...</td>\n",
              "      <td>NaN</td>\n",
              "      <td>I-595 W</td>\n",
              "      <td>R</td>\n",
              "      <td>Fort Lauderdale</td>\n",
              "      <td>Broward</td>\n",
              "      <td>FL</td>\n",
              "      <td>33324</td>\n",
              "      <td>US</td>\n",
              "      <td>US/Eastern</td>\n",
              "      <td>KHWO</td>\n",
              "      <td>2016-08-31 17:53:00</td>\n",
              "      <td>84.2</td>\n",
              "      <td>NaN</td>\n",
              "      <td>84.0</td>\n",
              "      <td>29.92</td>\n",
              "      <td>10.0</td>\n",
              "      <td>SSE</td>\n",
              "      <td>13.8</td>\n",
              "      <td>NaN</td>\n",
              "      <td>Overcast</td>\n",
              "      <td>False</td>\n",
              "      <td>False</td>\n",
              "      <td>False</td>\n",
              "      <td>False</td>\n",
              "      <td>True</td>\n",
              "      <td>False</td>\n",
              "      <td>False</td>\n",
              "      <td>False</td>\n",
              "      <td>False</td>\n",
              "      <td>False</td>\n",
              "      <td>False</td>\n",
              "      <td>True</td>\n",
              "      <td>False</td>\n",
              "      <td>Day</td>\n",
              "      <td>Day</td>\n",
              "      <td>Day</td>\n",
              "      <td>Day</td>\n",
              "    </tr>\n",
              "    <tr>\n",
              "      <th>...</th>\n",
              "      <td>...</td>\n",
              "      <td>...</td>\n",
              "      <td>...</td>\n",
              "      <td>...</td>\n",
              "      <td>...</td>\n",
              "      <td>...</td>\n",
              "      <td>...</td>\n",
              "      <td>...</td>\n",
              "      <td>...</td>\n",
              "      <td>...</td>\n",
              "      <td>...</td>\n",
              "      <td>...</td>\n",
              "      <td>...</td>\n",
              "      <td>...</td>\n",
              "      <td>...</td>\n",
              "      <td>...</td>\n",
              "      <td>...</td>\n",
              "      <td>...</td>\n",
              "      <td>...</td>\n",
              "      <td>...</td>\n",
              "      <td>...</td>\n",
              "      <td>...</td>\n",
              "      <td>...</td>\n",
              "      <td>...</td>\n",
              "      <td>...</td>\n",
              "      <td>...</td>\n",
              "      <td>...</td>\n",
              "      <td>...</td>\n",
              "      <td>...</td>\n",
              "      <td>...</td>\n",
              "      <td>...</td>\n",
              "      <td>...</td>\n",
              "      <td>...</td>\n",
              "      <td>...</td>\n",
              "      <td>...</td>\n",
              "      <td>...</td>\n",
              "      <td>...</td>\n",
              "      <td>...</td>\n",
              "      <td>...</td>\n",
              "      <td>...</td>\n",
              "      <td>...</td>\n",
              "      <td>...</td>\n",
              "      <td>...</td>\n",
              "      <td>...</td>\n",
              "      <td>...</td>\n",
              "      <td>...</td>\n",
              "      <td>...</td>\n",
              "    </tr>\n",
              "    <tr>\n",
              "      <th>2906605</th>\n",
              "      <td>A-2906606</td>\n",
              "      <td>2</td>\n",
              "      <td>2018-06-28 08:49:01</td>\n",
              "      <td>2018-06-28 09:18:51</td>\n",
              "      <td>29.813824</td>\n",
              "      <td>-95.399437</td>\n",
              "      <td>29.813824</td>\n",
              "      <td>-95.399437</td>\n",
              "      <td>0.000</td>\n",
              "      <td>Accident on 30th St at Yale St.</td>\n",
              "      <td>3001.0</td>\n",
              "      <td>Yale St</td>\n",
              "      <td>L</td>\n",
              "      <td>Houston</td>\n",
              "      <td>Harris</td>\n",
              "      <td>TX</td>\n",
              "      <td>77018-8433</td>\n",
              "      <td>US</td>\n",
              "      <td>US/Central</td>\n",
              "      <td>KMCJ</td>\n",
              "      <td>2018-06-28 08:35:00</td>\n",
              "      <td>84.2</td>\n",
              "      <td>NaN</td>\n",
              "      <td>70.0</td>\n",
              "      <td>30.02</td>\n",
              "      <td>9.0</td>\n",
              "      <td>Variable</td>\n",
              "      <td>5.8</td>\n",
              "      <td>NaN</td>\n",
              "      <td>Clear</td>\n",
              "      <td>False</td>\n",
              "      <td>False</td>\n",
              "      <td>False</td>\n",
              "      <td>False</td>\n",
              "      <td>False</td>\n",
              "      <td>False</td>\n",
              "      <td>False</td>\n",
              "      <td>False</td>\n",
              "      <td>False</td>\n",
              "      <td>True</td>\n",
              "      <td>False</td>\n",
              "      <td>False</td>\n",
              "      <td>False</td>\n",
              "      <td>Day</td>\n",
              "      <td>Day</td>\n",
              "      <td>Day</td>\n",
              "      <td>Day</td>\n",
              "    </tr>\n",
              "    <tr>\n",
              "      <th>2906606</th>\n",
              "      <td>A-2906607</td>\n",
              "      <td>2</td>\n",
              "      <td>2019-01-10 02:01:01</td>\n",
              "      <td>2019-01-10 02:30:32</td>\n",
              "      <td>34.068890</td>\n",
              "      <td>-117.342010</td>\n",
              "      <td>34.068890</td>\n",
              "      <td>-117.342010</td>\n",
              "      <td>0.000</td>\n",
              "      <td>At Valley Blvd - Accident.</td>\n",
              "      <td>NaN</td>\n",
              "      <td>Cypress Ave</td>\n",
              "      <td>R</td>\n",
              "      <td>Colton</td>\n",
              "      <td>San Bernardino</td>\n",
              "      <td>CA</td>\n",
              "      <td>92324</td>\n",
              "      <td>US</td>\n",
              "      <td>US/Pacific</td>\n",
              "      <td>KSBD</td>\n",
              "      <td>2019-01-10 02:00:00</td>\n",
              "      <td>46.9</td>\n",
              "      <td>NaN</td>\n",
              "      <td>74.0</td>\n",
              "      <td>30.14</td>\n",
              "      <td>10.0</td>\n",
              "      <td>Calm</td>\n",
              "      <td>NaN</td>\n",
              "      <td>NaN</td>\n",
              "      <td>Clear</td>\n",
              "      <td>False</td>\n",
              "      <td>False</td>\n",
              "      <td>False</td>\n",
              "      <td>False</td>\n",
              "      <td>False</td>\n",
              "      <td>False</td>\n",
              "      <td>False</td>\n",
              "      <td>False</td>\n",
              "      <td>False</td>\n",
              "      <td>False</td>\n",
              "      <td>False</td>\n",
              "      <td>False</td>\n",
              "      <td>False</td>\n",
              "      <td>Night</td>\n",
              "      <td>Night</td>\n",
              "      <td>Night</td>\n",
              "      <td>Night</td>\n",
              "    </tr>\n",
              "    <tr>\n",
              "      <th>2906607</th>\n",
              "      <td>A-2906608</td>\n",
              "      <td>2</td>\n",
              "      <td>2020-11-23 12:52:00</td>\n",
              "      <td>2020-11-24 00:47:37</td>\n",
              "      <td>25.702200</td>\n",
              "      <td>-80.335556</td>\n",
              "      <td>25.703040</td>\n",
              "      <td>-80.334099</td>\n",
              "      <td>0.108</td>\n",
              "      <td>Stationary traffic on County Hwy-913 - FL-986 ...</td>\n",
              "      <td>8798.0</td>\n",
              "      <td>SW 72nd St</td>\n",
              "      <td>L</td>\n",
              "      <td>Miami</td>\n",
              "      <td>Miami-Dade</td>\n",
              "      <td>FL</td>\n",
              "      <td>33173-3512</td>\n",
              "      <td>US</td>\n",
              "      <td>US/Eastern</td>\n",
              "      <td>KTMB</td>\n",
              "      <td>2020-11-23 12:53:00</td>\n",
              "      <td>76.0</td>\n",
              "      <td>76.0</td>\n",
              "      <td>85.0</td>\n",
              "      <td>30.00</td>\n",
              "      <td>10.0</td>\n",
              "      <td>NNW</td>\n",
              "      <td>16.0</td>\n",
              "      <td>0.0</td>\n",
              "      <td>Mostly Cloudy</td>\n",
              "      <td>False</td>\n",
              "      <td>False</td>\n",
              "      <td>False</td>\n",
              "      <td>False</td>\n",
              "      <td>False</td>\n",
              "      <td>False</td>\n",
              "      <td>False</td>\n",
              "      <td>False</td>\n",
              "      <td>False</td>\n",
              "      <td>False</td>\n",
              "      <td>False</td>\n",
              "      <td>False</td>\n",
              "      <td>False</td>\n",
              "      <td>Day</td>\n",
              "      <td>Day</td>\n",
              "      <td>Day</td>\n",
              "      <td>Day</td>\n",
              "    </tr>\n",
              "    <tr>\n",
              "      <th>2906608</th>\n",
              "      <td>A-2906609</td>\n",
              "      <td>2</td>\n",
              "      <td>2019-12-29 22:38:00</td>\n",
              "      <td>2019-12-29 23:38:00</td>\n",
              "      <td>40.660140</td>\n",
              "      <td>-111.952460</td>\n",
              "      <td>40.660140</td>\n",
              "      <td>-111.952460</td>\n",
              "      <td>0.000</td>\n",
              "      <td>At UT-266/4700/Exit 15 - Accident.</td>\n",
              "      <td>NaN</td>\n",
              "      <td>I-215 N</td>\n",
              "      <td>R</td>\n",
              "      <td>Salt Lake City</td>\n",
              "      <td>Salt Lake</td>\n",
              "      <td>UT</td>\n",
              "      <td>84129</td>\n",
              "      <td>US</td>\n",
              "      <td>US/Mountain</td>\n",
              "      <td>KU42</td>\n",
              "      <td>2019-12-29 22:54:00</td>\n",
              "      <td>27.0</td>\n",
              "      <td>19.0</td>\n",
              "      <td>81.0</td>\n",
              "      <td>25.81</td>\n",
              "      <td>10.0</td>\n",
              "      <td>SSE</td>\n",
              "      <td>8.0</td>\n",
              "      <td>0.0</td>\n",
              "      <td>Cloudy</td>\n",
              "      <td>False</td>\n",
              "      <td>False</td>\n",
              "      <td>False</td>\n",
              "      <td>False</td>\n",
              "      <td>False</td>\n",
              "      <td>False</td>\n",
              "      <td>False</td>\n",
              "      <td>False</td>\n",
              "      <td>False</td>\n",
              "      <td>False</td>\n",
              "      <td>False</td>\n",
              "      <td>False</td>\n",
              "      <td>False</td>\n",
              "      <td>Night</td>\n",
              "      <td>Night</td>\n",
              "      <td>Night</td>\n",
              "      <td>Night</td>\n",
              "    </tr>\n",
              "    <tr>\n",
              "      <th>2906609</th>\n",
              "      <td>A-2906610</td>\n",
              "      <td>2</td>\n",
              "      <td>2018-03-26 13:35:03</td>\n",
              "      <td>2018-03-26 14:39:00</td>\n",
              "      <td>38.831749</td>\n",
              "      <td>-104.748161</td>\n",
              "      <td>38.831749</td>\n",
              "      <td>-104.748161</td>\n",
              "      <td>0.000</td>\n",
              "      <td>Accident on Murray Blvd at Byron Dr.</td>\n",
              "      <td>NaN</td>\n",
              "      <td>Byron Dr</td>\n",
              "      <td>R</td>\n",
              "      <td>Colorado Springs</td>\n",
              "      <td>El Paso</td>\n",
              "      <td>CO</td>\n",
              "      <td>80916</td>\n",
              "      <td>US</td>\n",
              "      <td>US/Mountain</td>\n",
              "      <td>KCOS</td>\n",
              "      <td>2018-03-26 13:54:00</td>\n",
              "      <td>51.1</td>\n",
              "      <td>NaN</td>\n",
              "      <td>38.0</td>\n",
              "      <td>29.77</td>\n",
              "      <td>10.0</td>\n",
              "      <td>SE</td>\n",
              "      <td>13.8</td>\n",
              "      <td>NaN</td>\n",
              "      <td>Scattered Clouds</td>\n",
              "      <td>False</td>\n",
              "      <td>False</td>\n",
              "      <td>True</td>\n",
              "      <td>False</td>\n",
              "      <td>False</td>\n",
              "      <td>False</td>\n",
              "      <td>False</td>\n",
              "      <td>False</td>\n",
              "      <td>False</td>\n",
              "      <td>False</td>\n",
              "      <td>False</td>\n",
              "      <td>True</td>\n",
              "      <td>False</td>\n",
              "      <td>Day</td>\n",
              "      <td>Day</td>\n",
              "      <td>Day</td>\n",
              "      <td>Day</td>\n",
              "    </tr>\n",
              "  </tbody>\n",
              "</table>\n",
              "<p>2906610 rows × 47 columns</p>\n",
              "</div>"
            ],
            "text/plain": [
              "                ID  Severity  ... Nautical_Twilight Astronomical_Twilight\n",
              "0              A-1         2  ...               Day                   Day\n",
              "1              A-2         2  ...               Day                   Day\n",
              "2              A-3         2  ...             Night                 Night\n",
              "3              A-4         2  ...               Day                   Day\n",
              "4              A-5         3  ...               Day                   Day\n",
              "...            ...       ...  ...               ...                   ...\n",
              "2906605  A-2906606         2  ...               Day                   Day\n",
              "2906606  A-2906607         2  ...             Night                 Night\n",
              "2906607  A-2906608         2  ...               Day                   Day\n",
              "2906608  A-2906609         2  ...             Night                 Night\n",
              "2906609  A-2906610         2  ...               Day                   Day\n",
              "\n",
              "[2906610 rows x 47 columns]"
            ]
          },
          "metadata": {
            "tags": []
          },
          "execution_count": 8
        }
      ]
    },
    {
      "cell_type": "code",
      "metadata": {
        "colab": {
          "base_uri": "https://localhost:8080/"
        },
        "id": "_nKmEph49AuQ",
        "outputId": "7f2cf95c-5ff4-46fa-ed20-1b06a44ba398"
      },
      "source": [
        "df.columns"
      ],
      "execution_count": 9,
      "outputs": [
        {
          "output_type": "execute_result",
          "data": {
            "text/plain": [
              "Index(['ID', 'Severity', 'Start_Time', 'End_Time', 'Start_Lat', 'Start_Lng',\n",
              "       'End_Lat', 'End_Lng', 'Distance(mi)', 'Description', 'Number', 'Street',\n",
              "       'Side', 'City', 'County', 'State', 'Zipcode', 'Country', 'Timezone',\n",
              "       'Airport_Code', 'Weather_Timestamp', 'Temperature(F)', 'Wind_Chill(F)',\n",
              "       'Humidity(%)', 'Pressure(in)', 'Visibility(mi)', 'Wind_Direction',\n",
              "       'Wind_Speed(mph)', 'Precipitation(in)', 'Weather_Condition', 'Amenity',\n",
              "       'Bump', 'Crossing', 'Give_Way', 'Junction', 'No_Exit', 'Railway',\n",
              "       'Roundabout', 'Station', 'Stop', 'Traffic_Calming', 'Traffic_Signal',\n",
              "       'Turning_Loop', 'Sunrise_Sunset', 'Civil_Twilight', 'Nautical_Twilight',\n",
              "       'Astronomical_Twilight'],\n",
              "      dtype='object')"
            ]
          },
          "metadata": {
            "tags": []
          },
          "execution_count": 9
        }
      ]
    },
    {
      "cell_type": "code",
      "metadata": {
        "colab": {
          "base_uri": "https://localhost:8080/"
        },
        "id": "WNrH6sQz9Aeu",
        "outputId": "a5aa9fe0-971f-443d-e36f-184cb727014e"
      },
      "source": [
        "len(df.columns)"
      ],
      "execution_count": 10,
      "outputs": [
        {
          "output_type": "execute_result",
          "data": {
            "text/plain": [
              "47"
            ]
          },
          "metadata": {
            "tags": []
          },
          "execution_count": 10
        }
      ]
    },
    {
      "cell_type": "code",
      "metadata": {
        "colab": {
          "base_uri": "https://localhost:8080/"
        },
        "id": "qUOBKlYPEJ_D",
        "outputId": "d66c018b-df7f-4880-c5a1-d7b6d4688e84"
      },
      "source": [
        "df.info()"
      ],
      "execution_count": 11,
      "outputs": [
        {
          "output_type": "stream",
          "text": [
            "<class 'pandas.core.frame.DataFrame'>\n",
            "RangeIndex: 2906610 entries, 0 to 2906609\n",
            "Data columns (total 47 columns):\n",
            " #   Column                 Dtype  \n",
            "---  ------                 -----  \n",
            " 0   ID                     object \n",
            " 1   Severity               int64  \n",
            " 2   Start_Time             object \n",
            " 3   End_Time               object \n",
            " 4   Start_Lat              float64\n",
            " 5   Start_Lng              float64\n",
            " 6   End_Lat                float64\n",
            " 7   End_Lng                float64\n",
            " 8   Distance(mi)           float64\n",
            " 9   Description            object \n",
            " 10  Number                 float64\n",
            " 11  Street                 object \n",
            " 12  Side                   object \n",
            " 13  City                   object \n",
            " 14  County                 object \n",
            " 15  State                  object \n",
            " 16  Zipcode                object \n",
            " 17  Country                object \n",
            " 18  Timezone               object \n",
            " 19  Airport_Code           object \n",
            " 20  Weather_Timestamp      object \n",
            " 21  Temperature(F)         float64\n",
            " 22  Wind_Chill(F)          float64\n",
            " 23  Humidity(%)            float64\n",
            " 24  Pressure(in)           float64\n",
            " 25  Visibility(mi)         float64\n",
            " 26  Wind_Direction         object \n",
            " 27  Wind_Speed(mph)        float64\n",
            " 28  Precipitation(in)      float64\n",
            " 29  Weather_Condition      object \n",
            " 30  Amenity                bool   \n",
            " 31  Bump                   bool   \n",
            " 32  Crossing               bool   \n",
            " 33  Give_Way               bool   \n",
            " 34  Junction               bool   \n",
            " 35  No_Exit                bool   \n",
            " 36  Railway                bool   \n",
            " 37  Roundabout             bool   \n",
            " 38  Station                bool   \n",
            " 39  Stop                   bool   \n",
            " 40  Traffic_Calming        bool   \n",
            " 41  Traffic_Signal         bool   \n",
            " 42  Turning_Loop           bool   \n",
            " 43  Sunrise_Sunset         object \n",
            " 44  Civil_Twilight         object \n",
            " 45  Nautical_Twilight      object \n",
            " 46  Astronomical_Twilight  object \n",
            "dtypes: bool(13), float64(13), int64(1), object(20)\n",
            "memory usage: 790.0+ MB\n"
          ],
          "name": "stdout"
        }
      ]
    },
    {
      "cell_type": "code",
      "metadata": {
        "colab": {
          "base_uri": "https://localhost:8080/",
          "height": 300
        },
        "id": "-WewLxuVEJ1l",
        "outputId": "a937f7fc-5b57-46f1-b8de-18961eaac92a"
      },
      "source": [
        "df.describe()"
      ],
      "execution_count": 12,
      "outputs": [
        {
          "output_type": "execute_result",
          "data": {
            "text/html": [
              "<div>\n",
              "<style scoped>\n",
              "    .dataframe tbody tr th:only-of-type {\n",
              "        vertical-align: middle;\n",
              "    }\n",
              "\n",
              "    .dataframe tbody tr th {\n",
              "        vertical-align: top;\n",
              "    }\n",
              "\n",
              "    .dataframe thead th {\n",
              "        text-align: right;\n",
              "    }\n",
              "</style>\n",
              "<table border=\"1\" class=\"dataframe\">\n",
              "  <thead>\n",
              "    <tr style=\"text-align: right;\">\n",
              "      <th></th>\n",
              "      <th>Severity</th>\n",
              "      <th>Start_Lat</th>\n",
              "      <th>Start_Lng</th>\n",
              "      <th>End_Lat</th>\n",
              "      <th>End_Lng</th>\n",
              "      <th>Distance(mi)</th>\n",
              "      <th>Number</th>\n",
              "      <th>Temperature(F)</th>\n",
              "      <th>Wind_Chill(F)</th>\n",
              "      <th>Humidity(%)</th>\n",
              "      <th>Pressure(in)</th>\n",
              "      <th>Visibility(mi)</th>\n",
              "      <th>Wind_Speed(mph)</th>\n",
              "      <th>Precipitation(in)</th>\n",
              "    </tr>\n",
              "  </thead>\n",
              "  <tbody>\n",
              "    <tr>\n",
              "      <th>count</th>\n",
              "      <td>2.906610e+06</td>\n",
              "      <td>2.906610e+06</td>\n",
              "      <td>2.906610e+06</td>\n",
              "      <td>2.623789e+06</td>\n",
              "      <td>2.623789e+06</td>\n",
              "      <td>2.906610e+06</td>\n",
              "      <td>1.014938e+06</td>\n",
              "      <td>2.839386e+06</td>\n",
              "      <td>1.722751e+06</td>\n",
              "      <td>2.835340e+06</td>\n",
              "      <td>2.849702e+06</td>\n",
              "      <td>2.834532e+06</td>\n",
              "      <td>2.599447e+06</td>\n",
              "      <td>1.605284e+06</td>\n",
              "    </tr>\n",
              "    <tr>\n",
              "      <th>mean</th>\n",
              "      <td>2.288649e+00</td>\n",
              "      <td>3.653027e+01</td>\n",
              "      <td>-9.642676e+01</td>\n",
              "      <td>3.651733e+01</td>\n",
              "      <td>-9.620367e+01</td>\n",
              "      <td>3.980541e-01</td>\n",
              "      <td>6.789728e+03</td>\n",
              "      <td>6.098873e+01</td>\n",
              "      <td>5.499048e+01</td>\n",
              "      <td>6.537758e+01</td>\n",
              "      <td>2.965685e+01</td>\n",
              "      <td>9.116766e+00</td>\n",
              "      <td>7.818111e+00</td>\n",
              "      <td>1.119459e-02</td>\n",
              "    </tr>\n",
              "    <tr>\n",
              "      <th>std</th>\n",
              "      <td>5.541618e-01</td>\n",
              "      <td>5.013964e+00</td>\n",
              "      <td>1.775412e+01</td>\n",
              "      <td>5.016609e+00</td>\n",
              "      <td>1.765971e+01</td>\n",
              "      <td>1.592556e+00</td>\n",
              "      <td>1.697225e+04</td>\n",
              "      <td>1.845258e+01</td>\n",
              "      <td>2.219542e+01</td>\n",
              "      <td>2.287854e+01</td>\n",
              "      <td>9.094133e-01</td>\n",
              "      <td>2.837271e+00</td>\n",
              "      <td>5.431171e+00</td>\n",
              "      <td>1.540812e-01</td>\n",
              "    </tr>\n",
              "    <tr>\n",
              "      <th>min</th>\n",
              "      <td>1.000000e+00</td>\n",
              "      <td>2.455527e+01</td>\n",
              "      <td>-1.246238e+02</td>\n",
              "      <td>2.455527e+01</td>\n",
              "      <td>-1.246238e+02</td>\n",
              "      <td>0.000000e+00</td>\n",
              "      <td>0.000000e+00</td>\n",
              "      <td>-8.900000e+01</td>\n",
              "      <td>-8.900000e+01</td>\n",
              "      <td>1.000000e+00</td>\n",
              "      <td>0.000000e+00</td>\n",
              "      <td>0.000000e+00</td>\n",
              "      <td>0.000000e+00</td>\n",
              "      <td>0.000000e+00</td>\n",
              "    </tr>\n",
              "    <tr>\n",
              "      <th>25%</th>\n",
              "      <td>2.000000e+00</td>\n",
              "      <td>3.366453e+01</td>\n",
              "      <td>-1.178232e+02</td>\n",
              "      <td>3.364659e+01</td>\n",
              "      <td>-1.177020e+02</td>\n",
              "      <td>0.000000e+00</td>\n",
              "      <td>9.650000e+02</td>\n",
              "      <td>4.890000e+01</td>\n",
              "      <td>3.900000e+01</td>\n",
              "      <td>4.900000e+01</td>\n",
              "      <td>2.959000e+01</td>\n",
              "      <td>1.000000e+01</td>\n",
              "      <td>4.600000e+00</td>\n",
              "      <td>0.000000e+00</td>\n",
              "    </tr>\n",
              "    <tr>\n",
              "      <th>50%</th>\n",
              "      <td>2.000000e+00</td>\n",
              "      <td>3.609977e+01</td>\n",
              "      <td>-9.116690e+01</td>\n",
              "      <td>3.605898e+01</td>\n",
              "      <td>-9.105163e+01</td>\n",
              "      <td>0.000000e+00</td>\n",
              "      <td>3.093000e+03</td>\n",
              "      <td>6.300000e+01</td>\n",
              "      <td>5.800000e+01</td>\n",
              "      <td>6.800000e+01</td>\n",
              "      <td>2.992000e+01</td>\n",
              "      <td>1.000000e+01</td>\n",
              "      <td>7.000000e+00</td>\n",
              "      <td>0.000000e+00</td>\n",
              "    </tr>\n",
              "    <tr>\n",
              "      <th>75%</th>\n",
              "      <td>3.000000e+00</td>\n",
              "      <td>4.037505e+01</td>\n",
              "      <td>-8.085814e+01</td>\n",
              "      <td>4.033133e+01</td>\n",
              "      <td>-8.084679e+01</td>\n",
              "      <td>2.790000e-01</td>\n",
              "      <td>7.976000e+03</td>\n",
              "      <td>7.500000e+01</td>\n",
              "      <td>7.200000e+01</td>\n",
              "      <td>8.500000e+01</td>\n",
              "      <td>3.007000e+01</td>\n",
              "      <td>1.000000e+01</td>\n",
              "      <td>1.040000e+01</td>\n",
              "      <td>0.000000e+00</td>\n",
              "    </tr>\n",
              "    <tr>\n",
              "      <th>max</th>\n",
              "      <td>4.000000e+00</td>\n",
              "      <td>4.900220e+01</td>\n",
              "      <td>-6.711317e+01</td>\n",
              "      <td>4.907500e+01</td>\n",
              "      <td>-6.710924e+01</td>\n",
              "      <td>3.336300e+02</td>\n",
              "      <td>9.999997e+06</td>\n",
              "      <td>2.030000e+02</td>\n",
              "      <td>1.740000e+02</td>\n",
              "      <td>1.000000e+02</td>\n",
              "      <td>5.804000e+01</td>\n",
              "      <td>1.400000e+02</td>\n",
              "      <td>9.840000e+02</td>\n",
              "      <td>2.400000e+01</td>\n",
              "    </tr>\n",
              "  </tbody>\n",
              "</table>\n",
              "</div>"
            ],
            "text/plain": [
              "           Severity     Start_Lat  ...  Wind_Speed(mph)  Precipitation(in)\n",
              "count  2.906610e+06  2.906610e+06  ...     2.599447e+06       1.605284e+06\n",
              "mean   2.288649e+00  3.653027e+01  ...     7.818111e+00       1.119459e-02\n",
              "std    5.541618e-01  5.013964e+00  ...     5.431171e+00       1.540812e-01\n",
              "min    1.000000e+00  2.455527e+01  ...     0.000000e+00       0.000000e+00\n",
              "25%    2.000000e+00  3.366453e+01  ...     4.600000e+00       0.000000e+00\n",
              "50%    2.000000e+00  3.609977e+01  ...     7.000000e+00       0.000000e+00\n",
              "75%    3.000000e+00  4.037505e+01  ...     1.040000e+01       0.000000e+00\n",
              "max    4.000000e+00  4.900220e+01  ...     9.840000e+02       2.400000e+01\n",
              "\n",
              "[8 rows x 14 columns]"
            ]
          },
          "metadata": {
            "tags": []
          },
          "execution_count": 12
        }
      ]
    },
    {
      "cell_type": "code",
      "metadata": {
        "colab": {
          "base_uri": "https://localhost:8080/"
        },
        "id": "ffaDyJbjEJv_",
        "outputId": "ff653a76-073e-46ec-9811-3c44248e5825"
      },
      "source": [
        "numerics = ['int16', 'int32', 'int64', 'float16', 'float32', 'float64'] # to find the numeric columns in pandas\n",
        "numeric_df = df.select_dtypes(include=numerics)\n",
        "len(numeric_df.columns)"
      ],
      "execution_count": 13,
      "outputs": [
        {
          "output_type": "execute_result",
          "data": {
            "text/plain": [
              "14"
            ]
          },
          "metadata": {
            "tags": []
          },
          "execution_count": 13
        }
      ]
    },
    {
      "cell_type": "code",
      "metadata": {
        "colab": {
          "base_uri": "https://localhost:8080/"
        },
        "id": "8D42X0inEJpX",
        "outputId": "8ce275ba-a38f-44dd-dc9b-d696ceaf387a"
      },
      "source": [
        "#Missing and incorrect values in Pandas\n",
        "df.isna().sum()    #per column the count of missing values"
      ],
      "execution_count": 14,
      "outputs": [
        {
          "output_type": "execute_result",
          "data": {
            "text/plain": [
              "ID                             0\n",
              "Severity                       0\n",
              "Start_Time                     0\n",
              "End_Time                       0\n",
              "Start_Lat                      0\n",
              "Start_Lng                      0\n",
              "End_Lat                   282821\n",
              "End_Lng                   282821\n",
              "Distance(mi)                   0\n",
              "Description                    0\n",
              "Number                   1891672\n",
              "Street                         0\n",
              "Side                           0\n",
              "City                         108\n",
              "County                         0\n",
              "State                          0\n",
              "Zipcode                     1114\n",
              "Country                        0\n",
              "Timezone                    3430\n",
              "Airport_Code                6608\n",
              "Weather_Timestamp          46917\n",
              "Temperature(F)             67224\n",
              "Wind_Chill(F)            1183859\n",
              "Humidity(%)                71270\n",
              "Pressure(in)               56908\n",
              "Visibility(mi)             72078\n",
              "Wind_Direction             63474\n",
              "Wind_Speed(mph)           307163\n",
              "Precipitation(in)        1301326\n",
              "Weather_Condition          71851\n",
              "Amenity                        0\n",
              "Bump                           0\n",
              "Crossing                       0\n",
              "Give_Way                       0\n",
              "Junction                       0\n",
              "No_Exit                        0\n",
              "Railway                        0\n",
              "Roundabout                     0\n",
              "Station                        0\n",
              "Stop                           0\n",
              "Traffic_Calming                0\n",
              "Traffic_Signal                 0\n",
              "Turning_Loop                   0\n",
              "Sunrise_Sunset               110\n",
              "Civil_Twilight               110\n",
              "Nautical_Twilight            110\n",
              "Astronomical_Twilight        110\n",
              "dtype: int64"
            ]
          },
          "metadata": {
            "tags": []
          },
          "execution_count": 14
        }
      ]
    },
    {
      "cell_type": "markdown",
      "metadata": {
        "id": "FoNqcZuUQfG_"
      },
      "source": [
        "###### % of missing values per columns"
      ]
    },
    {
      "cell_type": "code",
      "metadata": {
        "colab": {
          "base_uri": "https://localhost:8080/"
        },
        "id": "UI_ymshWEJjd",
        "outputId": "f2b05518-f57b-4e3e-dac3-68b329dac34b"
      },
      "source": [
        "df.isna().sum().sort_values()"
      ],
      "execution_count": 15,
      "outputs": [
        {
          "output_type": "execute_result",
          "data": {
            "text/plain": [
              "ID                             0\n",
              "Crossing                       0\n",
              "Give_Way                       0\n",
              "Junction                       0\n",
              "No_Exit                        0\n",
              "Railway                        0\n",
              "Roundabout                     0\n",
              "Station                        0\n",
              "Stop                           0\n",
              "Traffic_Calming                0\n",
              "Country                        0\n",
              "Traffic_Signal                 0\n",
              "State                          0\n",
              "Bump                           0\n",
              "County                         0\n",
              "Side                           0\n",
              "Street                         0\n",
              "Turning_Loop                   0\n",
              "Description                    0\n",
              "Distance(mi)                   0\n",
              "Start_Lng                      0\n",
              "Start_Lat                      0\n",
              "End_Time                       0\n",
              "Start_Time                     0\n",
              "Severity                       0\n",
              "Amenity                        0\n",
              "City                         108\n",
              "Sunrise_Sunset               110\n",
              "Civil_Twilight               110\n",
              "Astronomical_Twilight        110\n",
              "Nautical_Twilight            110\n",
              "Zipcode                     1114\n",
              "Timezone                    3430\n",
              "Airport_Code                6608\n",
              "Weather_Timestamp          46917\n",
              "Pressure(in)               56908\n",
              "Wind_Direction             63474\n",
              "Temperature(F)             67224\n",
              "Humidity(%)                71270\n",
              "Weather_Condition          71851\n",
              "Visibility(mi)             72078\n",
              "End_Lng                   282821\n",
              "End_Lat                   282821\n",
              "Wind_Speed(mph)           307163\n",
              "Wind_Chill(F)            1183859\n",
              "Precipitation(in)        1301326\n",
              "Number                   1891672\n",
              "dtype: int64"
            ]
          },
          "metadata": {
            "tags": []
          },
          "execution_count": 15
        }
      ]
    },
    {
      "cell_type": "code",
      "metadata": {
        "colab": {
          "base_uri": "https://localhost:8080/"
        },
        "id": "fH2mzjHZQ3FI",
        "outputId": "e1ca8c8b-5d87-460d-b317-905cb9f9ee5b"
      },
      "source": [
        "missing_percentage = df.isna().sum().sort_values(ascending=False)/len(df)\n",
        "missing_percentage"
      ],
      "execution_count": 16,
      "outputs": [
        {
          "output_type": "execute_result",
          "data": {
            "text/plain": [
              "Number                   0.650817\n",
              "Precipitation(in)        0.447713\n",
              "Wind_Chill(F)            0.407299\n",
              "Wind_Speed(mph)          0.105677\n",
              "End_Lat                  0.097303\n",
              "End_Lng                  0.097303\n",
              "Visibility(mi)           0.024798\n",
              "Weather_Condition        0.024720\n",
              "Humidity(%)              0.024520\n",
              "Temperature(F)           0.023128\n",
              "Wind_Direction           0.021838\n",
              "Pressure(in)             0.019579\n",
              "Weather_Timestamp        0.016141\n",
              "Airport_Code             0.002273\n",
              "Timezone                 0.001180\n",
              "Zipcode                  0.000383\n",
              "Nautical_Twilight        0.000038\n",
              "Astronomical_Twilight    0.000038\n",
              "Civil_Twilight           0.000038\n",
              "Sunrise_Sunset           0.000038\n",
              "City                     0.000037\n",
              "Amenity                  0.000000\n",
              "Severity                 0.000000\n",
              "Start_Time               0.000000\n",
              "End_Time                 0.000000\n",
              "Start_Lat                0.000000\n",
              "Start_Lng                0.000000\n",
              "Distance(mi)             0.000000\n",
              "Description              0.000000\n",
              "Turning_Loop             0.000000\n",
              "Street                   0.000000\n",
              "Side                     0.000000\n",
              "County                   0.000000\n",
              "Bump                     0.000000\n",
              "State                    0.000000\n",
              "Traffic_Signal           0.000000\n",
              "Country                  0.000000\n",
              "Traffic_Calming          0.000000\n",
              "Stop                     0.000000\n",
              "Station                  0.000000\n",
              "Roundabout               0.000000\n",
              "Railway                  0.000000\n",
              "No_Exit                  0.000000\n",
              "Junction                 0.000000\n",
              "Give_Way                 0.000000\n",
              "Crossing                 0.000000\n",
              "ID                       0.000000\n",
              "dtype: float64"
            ]
          },
          "metadata": {
            "tags": []
          },
          "execution_count": 16
        }
      ]
    },
    {
      "cell_type": "code",
      "metadata": {
        "colab": {
          "base_uri": "https://localhost:8080/",
          "height": 284
        },
        "id": "x2wNgu1aQ29C",
        "outputId": "7e87a6d9-a6e4-4e11-d5bf-2efffb273c09"
      },
      "source": [
        "missing_percentage.plot(kind='barh')"
      ],
      "execution_count": 17,
      "outputs": [
        {
          "output_type": "execute_result",
          "data": {
            "text/plain": [
              "<matplotlib.axes._subplots.AxesSubplot at 0x7f364ca42850>"
            ]
          },
          "metadata": {
            "tags": []
          },
          "execution_count": 17
        },
        {
          "output_type": "display_data",
          "data": {
            "image/png": "[encoded data removed]",
            "text/plain": [
              "<Figure size 432x288 with 1 Axes>"
            ]
          },
          "metadata": {
            "tags": [],
            "needs_background": "light"
          }
        }
      ]
    },
    {
      "cell_type": "code",
      "metadata": {
        "colab": {
          "base_uri": "https://localhost:8080/"
        },
        "id": "HifxgMrYQ2zF",
        "outputId": "fc185488-f6fe-4ec9-d124-95dedad50f28"
      },
      "source": [
        "missing_percentage[missing_percentage != 0]"
      ],
      "execution_count": 18,
      "outputs": [
        {
          "output_type": "execute_result",
          "data": {
            "text/plain": [
              "Number                   0.650817\n",
              "Precipitation(in)        0.447713\n",
              "Wind_Chill(F)            0.407299\n",
              "Wind_Speed(mph)          0.105677\n",
              "End_Lat                  0.097303\n",
              "End_Lng                  0.097303\n",
              "Visibility(mi)           0.024798\n",
              "Weather_Condition        0.024720\n",
              "Humidity(%)              0.024520\n",
              "Temperature(F)           0.023128\n",
              "Wind_Direction           0.021838\n",
              "Pressure(in)             0.019579\n",
              "Weather_Timestamp        0.016141\n",
              "Airport_Code             0.002273\n",
              "Timezone                 0.001180\n",
              "Zipcode                  0.000383\n",
              "Nautical_Twilight        0.000038\n",
              "Astronomical_Twilight    0.000038\n",
              "Civil_Twilight           0.000038\n",
              "Sunrise_Sunset           0.000038\n",
              "City                     0.000037\n",
              "dtype: float64"
            ]
          },
          "metadata": {
            "tags": []
          },
          "execution_count": 18
        }
      ]
    },
    {
      "cell_type": "markdown",
      "metadata": {
        "id": "dSI2TBg-ohRP"
      },
      "source": [
        ""
      ]
    },
    {
      "cell_type": "code",
      "metadata": {
        "colab": {
          "base_uri": "https://localhost:8080/",
          "height": 284
        },
        "id": "1wr4uzVZQ2ps",
        "outputId": "086183c2-5d39-4464-bd56-d32808241257"
      },
      "source": [
        "missing_percentage.plot(kind='barh')"
      ],
      "execution_count": 19,
      "outputs": [
        {
          "output_type": "execute_result",
          "data": {
            "text/plain": [
              "<matplotlib.axes._subplots.AxesSubplot at 0x7f364c901890>"
            ]
          },
          "metadata": {
            "tags": []
          },
          "execution_count": 19
        },
        {
          "output_type": "display_data",
          "data": {
            "image/png": "[encoded data removed]",
            "text/plain": [
              "<Figure size 432x288 with 1 Axes>"
            ]
          },
          "metadata": {
            "tags": [],
            "needs_background": "light"
          }
        }
      ]
    },
    {
      "cell_type": "markdown",
      "metadata": {
        "id": "2t5eS-FJ8vrk"
      },
      "source": [
        "##Exploratory analysis & Visualization using Matplotlib & Seaborn\n",
        "\n",
        "*   Columns we'll analyze:\n",
        "\n",
        "1.   City \n",
        "2.   Start Time\n",
        "3.   Start Lt, Start Lng\n",
        "4.   Temperature and Weather\n",
        "\n",
        "\n",
        "\n"
      ]
    },
    {
      "cell_type": "code",
      "metadata": {
        "colab": {
          "base_uri": "https://localhost:8080/"
        },
        "id": "EXb56NYvoxcO",
        "outputId": "155d1d11-422e-44e5-d488-c76b5069216a"
      },
      "source": [
        "df.columns"
      ],
      "execution_count": 20,
      "outputs": [
        {
          "output_type": "execute_result",
          "data": {
            "text/plain": [
              "Index(['ID', 'Severity', 'Start_Time', 'End_Time', 'Start_Lat', 'Start_Lng',\n",
              "       'End_Lat', 'End_Lng', 'Distance(mi)', 'Description', 'Number', 'Street',\n",
              "       'Side', 'City', 'County', 'State', 'Zipcode', 'Country', 'Timezone',\n",
              "       'Airport_Code', 'Weather_Timestamp', 'Temperature(F)', 'Wind_Chill(F)',\n",
              "       'Humidity(%)', 'Pressure(in)', 'Visibility(mi)', 'Wind_Direction',\n",
              "       'Wind_Speed(mph)', 'Precipitation(in)', 'Weather_Condition', 'Amenity',\n",
              "       'Bump', 'Crossing', 'Give_Way', 'Junction', 'No_Exit', 'Railway',\n",
              "       'Roundabout', 'Station', 'Stop', 'Traffic_Calming', 'Traffic_Signal',\n",
              "       'Turning_Loop', 'Sunrise_Sunset', 'Civil_Twilight', 'Nautical_Twilight',\n",
              "       'Astronomical_Twilight'],\n",
              "      dtype='object')"
            ]
          },
          "metadata": {
            "tags": []
          },
          "execution_count": 20
        }
      ]
    },
    {
      "cell_type": "markdown",
      "metadata": {
        "id": "LrmuXM_1ne03"
      },
      "source": [
        "### City"
      ]
    },
    {
      "cell_type": "code",
      "metadata": {
        "colab": {
          "base_uri": "https://localhost:8080/"
        },
        "id": "8Q4qSaA9T59T",
        "outputId": "14d830d4-a9e4-4747-c29a-ae485a84a89c"
      },
      "source": [
        "df.City"
      ],
      "execution_count": 21,
      "outputs": [
        {
          "output_type": "execute_result",
          "data": {
            "text/plain": [
              "0                Greenville\n",
              "1                 Charlotte\n",
              "2                 Los Gatos\n",
              "3               Carson City\n",
              "4           Fort Lauderdale\n",
              "                 ...       \n",
              "2906605             Houston\n",
              "2906606              Colton\n",
              "2906607               Miami\n",
              "2906608      Salt Lake City\n",
              "2906609    Colorado Springs\n",
              "Name: City, Length: 2906610, dtype: object"
            ]
          },
          "metadata": {
            "tags": []
          },
          "execution_count": 21
        }
      ]
    },
    {
      "cell_type": "code",
      "metadata": {
        "colab": {
          "base_uri": "https://localhost:8080/"
        },
        "id": "SgRIR4Ks9QKL",
        "outputId": "0f2c7c32-be67-495c-b071-2e2a07f96019"
      },
      "source": [
        "cities = df.City.unique()\n",
        "len(cities)"
      ],
      "execution_count": 22,
      "outputs": [
        {
          "output_type": "execute_result",
          "data": {
            "text/plain": [
              "11790"
            ]
          },
          "metadata": {
            "tags": []
          },
          "execution_count": 22
        }
      ]
    },
    {
      "cell_type": "code",
      "metadata": {
        "colab": {
          "base_uri": "https://localhost:8080/"
        },
        "id": "eKdXNiSJ9QDR",
        "outputId": "cad27e03-b194-4187-f229-5ed0da2b8618"
      },
      "source": [
        "cities_by_accident = df.City.value_counts()\n",
        "cities_by_accident"
      ],
      "execution_count": 23,
      "outputs": [
        {
          "output_type": "execute_result",
          "data": {
            "text/plain": [
              "Los Angeles    68411\n",
              "Houston        68265\n",
              "Charlotte      56176\n",
              "Miami          49965\n",
              "Dallas         48525\n",
              "               ...  \n",
              "Wye Mills          1\n",
              "Crosswicks         1\n",
              "Downing            1\n",
              "State Line         1\n",
              "Fairbank           1\n",
              "Name: City, Length: 11789, dtype: int64"
            ]
          },
          "metadata": {
            "tags": []
          },
          "execution_count": 23
        }
      ]
    },
    {
      "cell_type": "code",
      "metadata": {
        "colab": {
          "base_uri": "https://localhost:8080/"
        },
        "id": "HOKFK-yP9P9n",
        "outputId": "650f8a75-31c8-4e17-d257-2d716153da5c"
      },
      "source": [
        "cities_by_accident[:20]"
      ],
      "execution_count": 24,
      "outputs": [
        {
          "output_type": "execute_result",
          "data": {
            "text/plain": [
              "Los Angeles      68411\n",
              "Houston          68265\n",
              "Charlotte        56176\n",
              "Miami            49965\n",
              "Dallas           48525\n",
              "Austin           38808\n",
              "Raleigh          31355\n",
              "Atlanta          29244\n",
              "Sacramento       28984\n",
              "Orlando          28092\n",
              "Nashville        25277\n",
              "Baton Rouge      25080\n",
              "Minneapolis      22469\n",
              "San Diego        22329\n",
              "Phoenix          21370\n",
              "Oklahoma City    21292\n",
              "Portland         19432\n",
              "Richmond         18343\n",
              "Seattle          17384\n",
              "Saint Paul       17266\n",
              "Name: City, dtype: int64"
            ]
          },
          "metadata": {
            "tags": []
          },
          "execution_count": 24
        }
      ]
    },
    {
      "cell_type": "code",
      "metadata": {
        "colab": {
          "base_uri": "https://localhost:8080/"
        },
        "id": "FGvHpsyn9Py9",
        "outputId": "880c3356-269e-42e3-8ae8-ac9d2da6099e"
      },
      "source": [
        "'NY' in df.State "
      ],
      "execution_count": 25,
      "outputs": [
        {
          "output_type": "execute_result",
          "data": {
            "text/plain": [
              "False"
            ]
          },
          "metadata": {
            "tags": []
          },
          "execution_count": 25
        }
      ]
    },
    {
      "cell_type": "code",
      "metadata": {
        "colab": {
          "base_uri": "https://localhost:8080/",
          "height": 282
        },
        "id": "eOd_V51N9Pmj",
        "outputId": "4a83aead-8a7f-4829-b81d-9e8e13588f4d"
      },
      "source": [
        "cities_by_accident[:20].plot(kind='barh')"
      ],
      "execution_count": 26,
      "outputs": [
        {
          "output_type": "execute_result",
          "data": {
            "text/plain": [
              "<matplotlib.axes._subplots.AxesSubplot at 0x7f364c363850>"
            ]
          },
          "metadata": {
            "tags": []
          },
          "execution_count": 26
        },
        {
          "output_type": "display_data",
          "data": {
            "image/png": "[encoded data removed]",
            "text/plain": [
              "<Figure size 432x288 with 1 Axes>"
            ]
          },
          "metadata": {
            "tags": [],
            "needs_background": "light"
          }
        }
      ]
    },
    {
      "cell_type": "markdown",
      "metadata": {
        "id": "Xp2R9tI6dqVD"
      },
      "source": [
        "######## Accidents distribution : AT what percentage of cities have large number of accidents and low number of accidentss "
      ]
    },
    {
      "cell_type": "code",
      "metadata": {
        "id": "dmA4GIJmWl1-"
      },
      "source": [
        "import seaborn as sns     #liabrary for data visualization\n",
        "sns.set_style('darkgrid')"
      ],
      "execution_count": 27,
      "outputs": []
    },
    {
      "cell_type": "code",
      "metadata": {
        "colab": {
          "base_uri": "https://localhost:8080/",
          "height": 350
        },
        "id": "i03Skd0TWlwu",
        "outputId": "b4a65b87-696f-422e-f649-4f24b2c9d328"
      },
      "source": [
        "sns.distplot(cities_by_accident)"
      ],
      "execution_count": 28,
      "outputs": [
        {
          "output_type": "stream",
          "text": [
            "/usr/local/lib/python3.7/dist-packages/seaborn/distributions.py:2557: FutureWarning: `distplot` is a deprecated function and will be removed in a future version. Please adapt your code to use either `displot` (a figure-level function with similar flexibility) or `histplot` (an axes-level function for histograms).\n",
            "  warnings.warn(msg, FutureWarning)\n"
          ],
          "name": "stderr"
        },
        {
          "output_type": "execute_result",
          "data": {
            "text/plain": [
              "<matplotlib.axes._subplots.AxesSubplot at 0x7f363e036050>"
            ]
          },
          "metadata": {
            "tags": []
          },
          "execution_count": 28
        },
        {
          "output_type": "display_data",
          "data": {
            "image/png": "[encoded data removed]",
            "text/plain": [
              "<Figure size 432x288 with 1 Axes>"
            ]
          },
          "metadata": {
            "tags": []
          }
        }
      ]
    },
    {
      "cell_type": "code",
      "metadata": {
        "id": "VH_5kezgWlr6"
      },
      "source": [
        "high_accident_cities = cities_by_accident[cities_by_accident >= 1000]\n",
        "low_accident_cities = cities_by_accident[cities_by_accident < 1000]"
      ],
      "execution_count": 29,
      "outputs": []
    },
    {
      "cell_type": "code",
      "metadata": {
        "colab": {
          "base_uri": "https://localhost:8080/"
        },
        "id": "gfurOMdLWllF",
        "outputId": "017b0f96-4363-476b-b066-2643e94c2f6d"
      },
      "source": [
        "len(high_accident_cities) / len(cities)*100\n"
      ],
      "execution_count": 30,
      "outputs": [
        {
          "output_type": "execute_result",
          "data": {
            "text/plain": [
              "4.351145038167939"
            ]
          },
          "metadata": {
            "tags": []
          },
          "execution_count": 30
        }
      ]
    },
    {
      "cell_type": "code",
      "metadata": {
        "colab": {
          "base_uri": "https://localhost:8080/",
          "height": 350
        },
        "id": "S4lD-aDWWlgQ",
        "outputId": "beea6a94-23f5-4617-a7f6-23d95cbab910"
      },
      "source": [
        "sns.distplot(high_accident_cities)"
      ],
      "execution_count": 31,
      "outputs": [
        {
          "output_type": "stream",
          "text": [
            "/usr/local/lib/python3.7/dist-packages/seaborn/distributions.py:2557: FutureWarning: `distplot` is a deprecated function and will be removed in a future version. Please adapt your code to use either `displot` (a figure-level function with similar flexibility) or `histplot` (an axes-level function for histograms).\n",
            "  warnings.warn(msg, FutureWarning)\n"
          ],
          "name": "stderr"
        },
        {
          "output_type": "execute_result",
          "data": {
            "text/plain": [
              "<matplotlib.axes._subplots.AxesSubplot at 0x7f3640b07290>"
            ]
          },
          "metadata": {
            "tags": []
          },
          "execution_count": 31
        },
        {
          "output_type": "display_data",
          "data": {
            "image/png": "[encoded data removed]",
            "text/plain": [
              "<Figure size 432x288 with 1 Axes>"
            ]
          },
          "metadata": {
            "tags": []
          }
        }
      ]
    },
    {
      "cell_type": "code",
      "metadata": {
        "colab": {
          "base_uri": "https://localhost:8080/",
          "height": 350
        },
        "id": "13Gd9VceWlaA",
        "outputId": "323733c6-fbaa-4d81-8cc4-d7d65e2138dd"
      },
      "source": [
        "sns.distplot(low_accident_cities) "
      ],
      "execution_count": 32,
      "outputs": [
        {
          "output_type": "stream",
          "text": [
            "/usr/local/lib/python3.7/dist-packages/seaborn/distributions.py:2557: FutureWarning: `distplot` is a deprecated function and will be removed in a future version. Please adapt your code to use either `displot` (a figure-level function with similar flexibility) or `histplot` (an axes-level function for histograms).\n",
            "  warnings.warn(msg, FutureWarning)\n"
          ],
          "name": "stderr"
        },
        {
          "output_type": "execute_result",
          "data": {
            "text/plain": [
              "<matplotlib.axes._subplots.AxesSubplot at 0x7f3632f34610>"
            ]
          },
          "metadata": {
            "tags": []
          },
          "execution_count": 32
        },
        {
          "output_type": "display_data",
          "data": {
            "image/png": "[encoded data removed]",
            "text/plain": [
              "<Figure size 432x288 with 1 Axes>"
            ]
          },
          "metadata": {
            "tags": []
          }
        }
      ]
    },
    {
      "cell_type": "code",
      "metadata": {
        "colab": {
          "base_uri": "https://localhost:8080/",
          "height": 300
        },
        "id": "tqjdtzqjkeTq",
        "outputId": "0d391a65-06ed-4729-cd9d-995c54e350a6"
      },
      "source": [
        "# Geting a exponential distribution therefore we will adjust the scale using log scale\n",
        "sns.histplot(cities_by_accident, log_scale= True)"
      ],
      "execution_count": 33,
      "outputs": [
        {
          "output_type": "execute_result",
          "data": {
            "text/plain": [
              "<matplotlib.axes._subplots.AxesSubplot at 0x7f3632d74c50>"
            ]
          },
          "metadata": {
            "tags": []
          },
          "execution_count": 33
        },
        {
          "output_type": "display_data",
          "data": {
            "image/png": "[encoded data removed]",
            "text/plain": [
              "<Figure size 432x288 with 1 Axes>"
            ]
          },
          "metadata": {
            "tags": []
          }
        }
      ]
    },
    {
      "cell_type": "code",
      "metadata": {
        "colab": {
          "base_uri": "https://localhost:8080/"
        },
        "id": "DTT0xOvBkeNm",
        "outputId": "620dc37d-e029-4944-a4f0-363d7309ae51"
      },
      "source": [
        "cities_by_accident[cities_by_accident == 1]"
      ],
      "execution_count": 34,
      "outputs": [
        {
          "output_type": "execute_result",
          "data": {
            "text/plain": [
              "Mattaponi           1\n",
              "Mills               1\n",
              "Fourmile            1\n",
              "La Habra Heights    1\n",
              "New Portland        1\n",
              "                   ..\n",
              "Wye Mills           1\n",
              "Crosswicks          1\n",
              "Downing             1\n",
              "State Line          1\n",
              "Fairbank            1\n",
              "Name: City, Length: 1306, dtype: int64"
            ]
          },
          "metadata": {
            "tags": []
          },
          "execution_count": 34
        }
      ]
    },
    {
      "cell_type": "markdown",
      "metadata": {
        "id": "Znky3lgAnOW5"
      },
      "source": [
        "### Start Time"
      ]
    },
    {
      "cell_type": "code",
      "metadata": {
        "colab": {
          "base_uri": "https://localhost:8080/"
        },
        "id": "pQ_WIIX4keHM",
        "outputId": "f13c9068-5bf3-46ab-f597-2c54db84a072"
      },
      "source": [
        "df.Start_Time "
      ],
      "execution_count": 35,
      "outputs": [
        {
          "output_type": "execute_result",
          "data": {
            "text/plain": [
              "0          2019-05-21 08:29:55\n",
              "1          2019-10-07 17:43:09\n",
              "2          2020-12-13 21:53:00\n",
              "3          2018-04-17 16:51:23\n",
              "4          2016-08-31 17:40:49\n",
              "                  ...         \n",
              "2906605    2018-06-28 08:49:01\n",
              "2906606    2019-01-10 02:01:01\n",
              "2906607    2020-11-23 12:52:00\n",
              "2906608    2019-12-29 22:38:00\n",
              "2906609    2018-03-26 13:35:03\n",
              "Name: Start_Time, Length: 2906610, dtype: object"
            ]
          },
          "metadata": {
            "tags": []
          },
          "execution_count": 35
        }
      ]
    },
    {
      "cell_type": "code",
      "metadata": {
        "colab": {
          "base_uri": "https://localhost:8080/",
          "height": 34
        },
        "id": "JmpFt9ZRkeBs",
        "outputId": "ea7975bf-c8b5-467d-ad0a-6c7019b1a23a"
      },
      "source": [
        "df.Start_Time[0]"
      ],
      "execution_count": 36,
      "outputs": [
        {
          "output_type": "execute_result",
          "data": {
            "application/vnd.google.colaboratory.intrinsic+json": {
              "type": "string"
            },
            "text/plain": [
              "'2019-05-21 08:29:55'"
            ]
          },
          "metadata": {
            "tags": []
          },
          "execution_count": 36
        }
      ]
    },
    {
      "cell_type": "code",
      "metadata": {
        "id": "N0OiMa6zkd8V"
      },
      "source": [
        "#over writing the original column with new data which contens data time object\n",
        "df.Start_Time = pd.to_datetime(df.Start_Time)"
      ],
      "execution_count": 37,
      "outputs": []
    },
    {
      "cell_type": "code",
      "metadata": {
        "colab": {
          "base_uri": "https://localhost:8080/"
        },
        "id": "5tQfM90Qkd2E",
        "outputId": "25ad4c7d-58b8-4825-a7e6-b623fd3128e8"
      },
      "source": [
        "df.Start_Time[0]"
      ],
      "execution_count": 38,
      "outputs": [
        {
          "output_type": "execute_result",
          "data": {
            "text/plain": [
              "Timestamp('2019-05-21 08:29:55')"
            ]
          },
          "metadata": {
            "tags": []
          },
          "execution_count": 38
        }
      ]
    },
    {
      "cell_type": "code",
      "metadata": {
        "colab": {
          "base_uri": "https://localhost:8080/"
        },
        "id": "gkQFRuSSkdtY",
        "outputId": "a6a8a998-7112-4b72-d833-cc0a6748b794"
      },
      "source": [
        "df.Start_Time.dt.hour"
      ],
      "execution_count": 39,
      "outputs": [
        {
          "output_type": "execute_result",
          "data": {
            "text/plain": [
              "0           8\n",
              "1          17\n",
              "2          21\n",
              "3          16\n",
              "4          17\n",
              "           ..\n",
              "2906605     8\n",
              "2906606     2\n",
              "2906607    12\n",
              "2906608    22\n",
              "2906609    13\n",
              "Name: Start_Time, Length: 2906610, dtype: int64"
            ]
          },
          "metadata": {
            "tags": []
          },
          "execution_count": 39
        }
      ]
    },
    {
      "cell_type": "code",
      "metadata": {
        "colab": {
          "base_uri": "https://localhost:8080/",
          "height": 352
        },
        "id": "LHJ0LH05kdkl",
        "outputId": "c166921b-5ae7-48e7-d89e-43cebc460328"
      },
      "source": [
        "sns.distplot(df.Start_Time.dt.hour, bins=24, kde=False, norm_hist= True)   #Locating the hour of day most accidents occurs"
      ],
      "execution_count": 40,
      "outputs": [
        {
          "output_type": "stream",
          "text": [
            "/usr/local/lib/python3.7/dist-packages/seaborn/distributions.py:2557: FutureWarning: `distplot` is a deprecated function and will be removed in a future version. Please adapt your code to use either `displot` (a figure-level function with similar flexibility) or `histplot` (an axes-level function for histograms).\n",
            "  warnings.warn(msg, FutureWarning)\n"
          ],
          "name": "stderr"
        },
        {
          "output_type": "execute_result",
          "data": {
            "text/plain": [
              "<matplotlib.axes._subplots.AxesSubplot at 0x7f3632a6a410>"
            ]
          },
          "metadata": {
            "tags": []
          },
          "execution_count": 40
        },
        {
          "output_type": "display_data",
          "data": {
            "image/png": "[encoded data removed]",
            "text/plain": [
              "<Figure size 432x288 with 1 Axes>"
            ]
          },
          "metadata": {
            "tags": []
          }
        }
      ]
    },
    {
      "cell_type": "markdown",
      "metadata": {
        "id": "XshzkFF6xi3N"
      },
      "source": [
        "Inference\n",
        "- A high % of accidents occure in between 6 am to 9 am (Probably due to start of the day and people are in hurry.)\n",
        "- Next highest % of accidents occure in between 3 pm to 6 pm "
      ]
    },
    {
      "cell_type": "code",
      "metadata": {
        "colab": {
          "base_uri": "https://localhost:8080/",
          "height": 352
        },
        "id": "MVB4KzwpsXH7",
        "outputId": "4f12d7fa-4ccd-4e18-a4c6-4c4f04c0c430"
      },
      "source": [
        "sns.distplot(df.Start_Time.dt.dayofweek, bins=7, kde=False, norm_hist= True)"
      ],
      "execution_count": 41,
      "outputs": [
        {
          "output_type": "stream",
          "text": [
            "/usr/local/lib/python3.7/dist-packages/seaborn/distributions.py:2557: FutureWarning: `distplot` is a deprecated function and will be removed in a future version. Please adapt your code to use either `displot` (a figure-level function with similar flexibility) or `histplot` (an axes-level function for histograms).\n",
            "  warnings.warn(msg, FutureWarning)\n"
          ],
          "name": "stderr"
        },
        {
          "output_type": "execute_result",
          "data": {
            "text/plain": [
              "<matplotlib.axes._subplots.AxesSubplot at 0x7f3632c13f90>"
            ]
          },
          "metadata": {
            "tags": []
          },
          "execution_count": 41
        },
        {
          "output_type": "display_data",
          "data": {
            "image/png": "[encoded data removed]",
            "text/plain": [
              "<Figure size 432x288 with 1 Axes>"
            ]
          },
          "metadata": {
            "tags": []
          }
        }
      ]
    },
    {
      "cell_type": "markdown",
      "metadata": {
        "id": "Qcsou1bwzfRy"
      },
      "source": [
        "Inferences \n",
        "- On weekends number of accidents is lower"
      ]
    },
    {
      "cell_type": "markdown",
      "metadata": {
        "id": "akW02fr6zwTk"
      },
      "source": [
        "Is the distribution of accidentss by hour the same on weekends as on weekdays?"
      ]
    },
    {
      "cell_type": "code",
      "metadata": {
        "colab": {
          "base_uri": "https://localhost:8080/",
          "height": 352
        },
        "id": "N12Ro6gwsXBA",
        "outputId": "cfe09ad2-4dd8-45d0-90e3-0078719bcf9c"
      },
      "source": [
        "sundays_Start_Time = df.Start_Time[df.Start_Time.dt.dayofweek == 6]\n",
        "sns.distplot(sundays_Start_Time.dt.hour, bins=24, kde=False, norm_hist= True)"
      ],
      "execution_count": 42,
      "outputs": [
        {
          "output_type": "stream",
          "text": [
            "/usr/local/lib/python3.7/dist-packages/seaborn/distributions.py:2557: FutureWarning: `distplot` is a deprecated function and will be removed in a future version. Please adapt your code to use either `displot` (a figure-level function with similar flexibility) or `histplot` (an axes-level function for histograms).\n",
            "  warnings.warn(msg, FutureWarning)\n"
          ],
          "name": "stderr"
        },
        {
          "output_type": "execute_result",
          "data": {
            "text/plain": [
              "<matplotlib.axes._subplots.AxesSubplot at 0x7f3632a0e150>"
            ]
          },
          "metadata": {
            "tags": []
          },
          "execution_count": 42
        },
        {
          "output_type": "display_data",
          "data": {
            "image/png": "[encoded data removed]",
            "text/plain": [
              "<Figure size 432x288 with 1 Axes>"
            ]
          },
          "metadata": {
            "tags": []
          }
        }
      ]
    },
    {
      "cell_type": "code",
      "metadata": {
        "colab": {
          "base_uri": "https://localhost:8080/",
          "height": 352
        },
        "id": "1hoQT7701-i_",
        "outputId": "5eb380d7-ea1a-4d21-84c5-3a96cbf43db4"
      },
      "source": [
        "mondays_Start_Time = df.Start_Time[df.Start_Time.dt.dayofweek == 0]\n",
        "sns.distplot(mondays_Start_Time.dt.hour, bins=24, kde=False, norm_hist= True)"
      ],
      "execution_count": 43,
      "outputs": [
        {
          "output_type": "stream",
          "text": [
            "/usr/local/lib/python3.7/dist-packages/seaborn/distributions.py:2557: FutureWarning: `distplot` is a deprecated function and will be removed in a future version. Please adapt your code to use either `displot` (a figure-level function with similar flexibility) or `histplot` (an axes-level function for histograms).\n",
            "  warnings.warn(msg, FutureWarning)\n"
          ],
          "name": "stderr"
        },
        {
          "output_type": "execute_result",
          "data": {
            "text/plain": [
              "<matplotlib.axes._subplots.AxesSubplot at 0x7f3632948990>"
            ]
          },
          "metadata": {
            "tags": []
          },
          "execution_count": 43
        },
        {
          "output_type": "display_data",
          "data": {
            "image/png": "[encoded data removed]",
            "text/plain": [
              "<Figure size 432x288 with 1 Axes>"
            ]
          },
          "metadata": {
            "tags": []
          }
        }
      ]
    },
    {
      "cell_type": "markdown",
      "metadata": {
        "id": "hV23UGGC1zFp"
      },
      "source": [
        "Inference\n",
        "- On Sunday peak of the accidents spread out through out the day mostly from 10 am till 6 pm. unlike weekdays\n"
      ]
    },
    {
      "cell_type": "code",
      "metadata": {
        "colab": {
          "base_uri": "https://localhost:8080/",
          "height": 352
        },
        "id": "yWm7r82KsW5a",
        "outputId": "26bd8375-99a0-4cdf-ebdd-3710a0b75014"
      },
      "source": [
        "sns.distplot(df.Start_Time.dt.month, bins=12, kde=False, norm_hist= True)"
      ],
      "execution_count": 44,
      "outputs": [
        {
          "output_type": "stream",
          "text": [
            "/usr/local/lib/python3.7/dist-packages/seaborn/distributions.py:2557: FutureWarning: `distplot` is a deprecated function and will be removed in a future version. Please adapt your code to use either `displot` (a figure-level function with similar flexibility) or `histplot` (an axes-level function for histograms).\n",
            "  warnings.warn(msg, FutureWarning)\n"
          ],
          "name": "stderr"
        },
        {
          "output_type": "execute_result",
          "data": {
            "text/plain": [
              "<matplotlib.axes._subplots.AxesSubplot at 0x7f36328d7c90>"
            ]
          },
          "metadata": {
            "tags": []
          },
          "execution_count": 44
        },
        {
          "output_type": "display_data",
          "data": {
            "image/png": "[encoded data removed]",
            "text/plain": [
              "<Figure size 432x288 with 1 Axes>"
            ]
          },
          "metadata": {
            "tags": []
          }
        }
      ]
    },
    {
      "cell_type": "markdown",
      "metadata": {
        "id": "LutYvM3d3vPe"
      },
      "source": [
        "Can you explain the month-wise trends of accidents.\n",
        "Ans - Data missing in 2016 data. Maybe even in 2017"
      ]
    },
    {
      "cell_type": "markdown",
      "metadata": {
        "id": "8h8OJQRQQiF0"
      },
      "source": [
        "##### Checking Accident data in different years so we can prove if the above distribution is yearly trend or we have an outliar\n"
      ]
    },
    {
      "cell_type": "markdown",
      "metadata": {
        "id": "SPdfGw9CSCLg"
      },
      "source": [
        ""
      ]
    },
    {
      "cell_type": "code",
      "metadata": {
        "colab": {
          "base_uri": "https://localhost:8080/",
          "height": 0
        },
        "id": "XdZKpY55sWwz",
        "outputId": "9b24ccd3-911a-4a7c-a7d5-e92d8e0997c8"
      },
      "source": [
        "df_2019 = df[df.Start_Time.dt.year == 2019] \n",
        "sns.distplot(df_2019.Start_Time.dt.month, bins=12, kde=False, norm_hist= True)"
      ],
      "execution_count": 45,
      "outputs": [
        {
          "output_type": "stream",
          "text": [
            "/usr/local/lib/python3.7/dist-packages/seaborn/distributions.py:2557: FutureWarning: `distplot` is a deprecated function and will be removed in a future version. Please adapt your code to use either `displot` (a figure-level function with similar flexibility) or `histplot` (an axes-level function for histograms).\n",
            "  warnings.warn(msg, FutureWarning)\n"
          ],
          "name": "stderr"
        },
        {
          "output_type": "execute_result",
          "data": {
            "text/plain": [
              "<matplotlib.axes._subplots.AxesSubplot at 0x7f36327eb110>"
            ]
          },
          "metadata": {
            "tags": []
          },
          "execution_count": 45
        },
        {
          "output_type": "display_data",
          "data": {
            "image/png": "[encoded data removed]",
            "text/plain": [
              "<Figure size 432x288 with 1 Axes>"
            ]
          },
          "metadata": {
            "tags": []
          }
        }
      ]
    },
    {
      "cell_type": "code",
      "metadata": {
        "colab": {
          "base_uri": "https://localhost:8080/",
          "height": 0
        },
        "id": "33IrYAoZsWdq",
        "outputId": "e887c156-28b1-4b14-c3d5-3b1de6a36b8e"
      },
      "source": [
        "df_2018 = df[df.Start_Time.dt.year == 2018] \n",
        "sns.distplot(df_2018.Start_Time.dt.month, bins=12, kde=False, norm_hist= True)"
      ],
      "execution_count": 46,
      "outputs": [
        {
          "output_type": "stream",
          "text": [
            "/usr/local/lib/python3.7/dist-packages/seaborn/distributions.py:2557: FutureWarning: `distplot` is a deprecated function and will be removed in a future version. Please adapt your code to use either `displot` (a figure-level function with similar flexibility) or `histplot` (an axes-level function for histograms).\n",
            "  warnings.warn(msg, FutureWarning)\n"
          ],
          "name": "stderr"
        },
        {
          "output_type": "execute_result",
          "data": {
            "text/plain": [
              "<matplotlib.axes._subplots.AxesSubplot at 0x7f363276f810>"
            ]
          },
          "metadata": {
            "tags": []
          },
          "execution_count": 46
        },
        {
          "output_type": "display_data",
          "data": {
            "image/png": "[encoded data removed]",
            "text/plain": [
              "<Figure size 432x288 with 1 Axes>"
            ]
          },
          "metadata": {
            "tags": []
          }
        }
      ]
    },
    {
      "cell_type": "code",
      "metadata": {
        "colab": {
          "base_uri": "https://localhost:8080/",
          "height": 0
        },
        "id": "MZM23feCsWWk",
        "outputId": "8b968b63-56a0-40ed-f81b-6e1b1b709074"
      },
      "source": [
        "df_2017 = df[df.Start_Time.dt.year == 2017] \n",
        "sns.distplot(df_2017.Start_Time.dt.month, bins=12, kde=False, norm_hist= True)"
      ],
      "execution_count": 47,
      "outputs": [
        {
          "output_type": "stream",
          "text": [
            "/usr/local/lib/python3.7/dist-packages/seaborn/distributions.py:2557: FutureWarning: `distplot` is a deprecated function and will be removed in a future version. Please adapt your code to use either `displot` (a figure-level function with similar flexibility) or `histplot` (an axes-level function for histograms).\n",
            "  warnings.warn(msg, FutureWarning)\n"
          ],
          "name": "stderr"
        },
        {
          "output_type": "execute_result",
          "data": {
            "text/plain": [
              "<matplotlib.axes._subplots.AxesSubplot at 0x7f363e0d1c90>"
            ]
          },
          "metadata": {
            "tags": []
          },
          "execution_count": 47
        },
        {
          "output_type": "display_data",
          "data": {
            "image/png": "[encoded data removed]",
            "text/plain": [
              "<Figure size 432x288 with 1 Axes>"
            ]
          },
          "metadata": {
            "tags": []
          }
        }
      ]
    },
    {
      "cell_type": "code",
      "metadata": {
        "colab": {
          "base_uri": "https://localhost:8080/",
          "height": 0
        },
        "id": "7RtgVqBHkdVj",
        "outputId": "f44dab8c-0d0f-4474-b486-9877d60c56ae"
      },
      "source": [
        "df_2016 = df[df.Start_Time.dt.year == 2016] \n",
        "sns.distplot(df_2016.Start_Time.dt.month, bins=12, kde=False, norm_hist= True)"
      ],
      "execution_count": 48,
      "outputs": [
        {
          "output_type": "stream",
          "text": [
            "/usr/local/lib/python3.7/dist-packages/seaborn/distributions.py:2557: FutureWarning: `distplot` is a deprecated function and will be removed in a future version. Please adapt your code to use either `displot` (a figure-level function with similar flexibility) or `histplot` (an axes-level function for histograms).\n",
            "  warnings.warn(msg, FutureWarning)\n"
          ],
          "name": "stderr"
        },
        {
          "output_type": "execute_result",
          "data": {
            "text/plain": [
              "<matplotlib.axes._subplots.AxesSubplot at 0x7f3632a4ad50>"
            ]
          },
          "metadata": {
            "tags": []
          },
          "execution_count": 48
        },
        {
          "output_type": "display_data",
          "data": {
            "image/png": "[encoded data removed]",
            "text/plain": [
              "<Figure size 432x288 with 1 Axes>"
            ]
          },
          "metadata": {
            "tags": []
          }
        }
      ]
    },
    {
      "cell_type": "markdown",
      "metadata": {
        "id": "TssBNFwzSK9B"
      },
      "source": [
        "##### Start Latitude & Longitude"
      ]
    },
    {
      "cell_type": "code",
      "metadata": {
        "colab": {
          "base_uri": "https://localhost:8080/"
        },
        "id": "W2fu0G0aQdqC",
        "outputId": "73cbcce2-447b-4000-f58f-c49703efc29b"
      },
      "source": [
        "df.Start_Lat"
      ],
      "execution_count": 49,
      "outputs": [
        {
          "output_type": "execute_result",
          "data": {
            "text/plain": [
              "0          34.808868\n",
              "1          35.090080\n",
              "2          37.145730\n",
              "3          39.110390\n",
              "4          26.102942\n",
              "             ...    \n",
              "2906605    29.813824\n",
              "2906606    34.068890\n",
              "2906607    25.702200\n",
              "2906608    40.660140\n",
              "2906609    38.831749\n",
              "Name: Start_Lat, Length: 2906610, dtype: float64"
            ]
          },
          "metadata": {
            "tags": []
          },
          "execution_count": 49
        }
      ]
    },
    {
      "cell_type": "code",
      "metadata": {
        "colab": {
          "base_uri": "https://localhost:8080/"
        },
        "id": "7n_Ctt69Qdf3",
        "outputId": "c80e3e42-c36d-42c6-f723-e6b2eb6bd7ab"
      },
      "source": [
        "df.Start_Lng"
      ],
      "execution_count": 50,
      "outputs": [
        {
          "output_type": "execute_result",
          "data": {
            "text/plain": [
              "0          -82.269157\n",
              "1          -80.745560\n",
              "2         -121.985052\n",
              "3         -119.773781\n",
              "4          -80.265091\n",
              "              ...    \n",
              "2906605    -95.399437\n",
              "2906606   -117.342010\n",
              "2906607    -80.335556\n",
              "2906608   -111.952460\n",
              "2906609   -104.748161\n",
              "Name: Start_Lng, Length: 2906610, dtype: float64"
            ]
          },
          "metadata": {
            "tags": []
          },
          "execution_count": 50
        }
      ]
    },
    {
      "cell_type": "code",
      "metadata": {
        "colab": {
          "base_uri": "https://localhost:8080/",
          "height": 300
        },
        "id": "KzSH6b95QdXd",
        "outputId": "0decac5a-4f1c-45b8-a29e-b72d708306f8"
      },
      "source": [
        "sns.scatterplot(x=df.Start_Lng, y=df.Start_Lat)"
      ],
      "execution_count": 51,
      "outputs": [
        {
          "output_type": "execute_result",
          "data": {
            "text/plain": [
              "<matplotlib.axes._subplots.AxesSubplot at 0x7f3632994090>"
            ]
          },
          "metadata": {
            "tags": []
          },
          "execution_count": 51
        },
        {
          "output_type": "display_data",
          "data": {
            "image/png": "[encoded data removed]",
            "text/plain": [
              "<Figure size 432x288 with 1 Axes>"
            ]
          },
          "metadata": {
            "tags": []
          }
        }
      ]
    },
    {
      "cell_type": "code",
      "metadata": {
        "id": "k3o7lrmNQdO_"
      },
      "source": [
        "sample_df = df.sample(int(0.1* len(df)))\n"
      ],
      "execution_count": 52,
      "outputs": []
    },
    {
      "cell_type": "code",
      "metadata": {
        "colab": {
          "base_uri": "https://localhost:8080/",
          "height": 300
        },
        "id": "KLLW5I9JQdAE",
        "outputId": "f95ebea8-e8aa-48d0-c9c3-73564fab46e4"
      },
      "source": [
        "sns.scatterplot(x=sample_df.Start_Lng, y=sample_df.Start_Lat, size=0.001)"
      ],
      "execution_count": 53,
      "outputs": [
        {
          "output_type": "execute_result",
          "data": {
            "text/plain": [
              "<matplotlib.axes._subplots.AxesSubplot at 0x7f3632ac4c90>"
            ]
          },
          "metadata": {
            "tags": []
          },
          "execution_count": 53
        },
        {
          "output_type": "display_data",
          "data": {
            "image/png": "[encoded data removed]",
            "text/plain": [
              "<Figure size 432x288 with 1 Axes>"
            ]
          },
          "metadata": {
            "tags": []
          }
        }
      ]
    },
    {
      "cell_type": "markdown",
      "metadata": {
        "id": "v12mIgZ9Wr32"
      },
      "source": [
        "#### Creating MAP"
      ]
    },
    {
      "cell_type": "code",
      "metadata": {
        "id": "pYxlcSB2Qc5O"
      },
      "source": [
        "import folium"
      ],
      "execution_count": 54,
      "outputs": []
    },
    {
      "cell_type": "code",
      "metadata": {
        "colab": {
          "base_uri": "https://localhost:8080/"
        },
        "id": "a8I9RAiLYFEr",
        "outputId": "300ddcb0-36c9-456f-895d-e876c6005cb6"
      },
      "source": [
        "lat, lon = df.Start_Lat[0], df.Start_Lng[0]\n",
        "lat, lon"
      ],
      "execution_count": 55,
      "outputs": [
        {
          "output_type": "execute_result",
          "data": {
            "text/plain": [
              "(34.808868, -82.26915699999998)"
            ]
          },
          "metadata": {
            "tags": []
          },
          "execution_count": 55
        }
      ]
    },
    {
      "cell_type": "code",
      "metadata": {
        "id": "wcuMLx-UQcyA",
        "outputId": "1dd4d2f1-8cee-4760-a22e-b234e8d1eb84",
        "colab": {
          "base_uri": "https://localhost:8080/",
          "height": 1000
        }
      },
      "source": [
        "map = folium.Map()\n",
        "marker = folium.Marker((lat,lon))\n",
        "marker.add_to(map)\n",
        "map"
      ],
      "execution_count": 56,
      "outputs": [
        {
          "output_type": "execute_result",
          "data": {
            "text/html": [
              "<div style=\"width:100%;\"><div style=\"position:relative;width:100%;height:0;padding-bottom:60%;\"><span style=\"color:#565656\">Make this Notebook Trusted to load map: File -> Trust Notebook</span><iframe src=\"about:blank\" style=\"position:absolute;width:100%;height:100%;left:0;top:0;border:none !important;\" data-html=%3C%21DOCTYPE%20html%3E%0A%3Chead%3E%20%20%20%20%0A%20%20%20%20%3Cmeta%20http-equiv%3D%22content-type%22%20content%3D%22text/html%3B%20charset%3DUTF-8%22%20/%3E%0A%20%20%20%20%3Cscript%3EL_PREFER_CANVAS%3Dfalse%3B%20L_NO_TOUCH%3Dfalse%3B%20L_DISABLE_3D%3Dfalse%3B%3C/script%3E%0A%20%20%20%20%3Cscript%20src%3D%22https%3A//cdn.jsdelivr.net/npm/leaflet%401.4.0/dist/leaflet.js%22%3E%3C/script%3E%0A%20%20%20%20%3Cscript%20src%3D%22https%3A//code.jquery.com/jquery-1.12.4.min.js%22%3E%3C/script%3E%0A%20%20%20%20%3Cscript%20src%3D%22https%3A//maxcdn.bootstrapcdn.com/bootstrap/3.2.0/js/bootstrap.min.js%22%3E%3C/script%3E%0A%20%20%20%20%3Cscript%20src%3D%22https%3A//cdnjs.cloudflare.com/ajax/libs/Leaflet.awesome-markers/2.0.2/leaflet.awesome-markers.js%22%3E%3C/script%3E%0A%20%20%20%20%3Clink%20rel%3D%22stylesheet%22%20href%3D%22https%3A//cdn.jsdelivr.net/npm/leaflet%401.4.0/dist/leaflet.css%22/%3E%0A%20%20%20%20%3Clink%20rel%3D%22stylesheet%22%20href%3D%22https%3A//maxcdn.bootstrapcdn.com/bootstrap/3.2.0/css/bootstrap.min.css%22/%3E%0A%20%20%20%20%3Clink%20rel%3D%22stylesheet%22%20href%3D%22https%3A//maxcdn.bootstrapcdn.com/bootstrap/3.2.0/css/bootstrap-theme.min.css%22/%3E%0A%20%20%20%20%3Clink%20rel%3D%22stylesheet%22%20href%3D%22https%3A//maxcdn.bootstrapcdn.com/font-awesome/4.6.3/css/font-awesome.min.css%22/%3E%0A%20%20%20%20%3Clink%20rel%3D%22stylesheet%22%20href%3D%22https%3A//cdnjs.cloudflare.com/ajax/libs/Leaflet.awesome-markers/2.0.2/leaflet.awesome-markers.css%22/%3E%0A%20%20%20%20%3Clink%20rel%3D%22stylesheet%22%20href%3D%22https%3A//rawcdn.githack.com/python-visualization/folium/master/folium/templates/leaflet.awesome.rotate.css%22/%3E%0A%20%20%20%20%3Cstyle%3Ehtml%2C%20body%20%7Bwidth%3A%20100%25%3Bheight%3A%20100%25%3Bmargin%3A%200%3Bpadding%3A%200%3B%7D%3C/style%3E%0A%20%20%20%20%3Cstyle%3E%23map%20%7Bposition%3Aabsolute%3Btop%3A0%3Bbottom%3A0%3Bright%3A0%3Bleft%3A0%3B%7D%3C/style%3E%0A%20%20%20%20%0A%20%20%20%20%3Cmeta%20name%3D%22viewport%22%20content%3D%22width%3Ddevice-width%2C%0A%20%20%20%20%20%20%20%20initial-scale%3D1.0%2C%20maximum-scale%3D1.0%2C%20user-scalable%3Dno%22%20/%3E%0A%20%20%20%20%3Cstyle%3E%23map_ce002674d4e844d988e2cd428ca69be0%20%7B%0A%20%20%20%20%20%20%20%20position%3A%20relative%3B%0A%20%20%20%20%20%20%20%20width%3A%20100.0%25%3B%0A%20%20%20%20%20%20%20%20height%3A%20100.0%25%3B%0A%20%20%20%20%20%20%20%20left%3A%200.0%25%3B%0A%20%20%20%20%20%20%20%20top%3A%200.0%25%3B%0A%20%20%20%20%20%20%20%20%7D%0A%20%20%20%20%3C/style%3E%0A%3C/head%3E%0A%3Cbody%3E%20%20%20%20%0A%20%20%20%20%0A%20%20%20%20%3Cdiv%20class%3D%22folium-map%22%20id%3D%22map_ce002674d4e844d988e2cd428ca69be0%22%20%3E%3C/div%3E%0A%3C/body%3E%0A%3Cscript%3E%20%20%20%20%0A%20%20%20%20%0A%20%20%20%20%0A%20%20%20%20%20%20%20%20var%20bounds%20%3D%20null%3B%0A%20%20%20%20%0A%0A%20%20%20%20var%20map_ce002674d4e844d988e2cd428ca69be0%20%3D%20L.map%28%0A%20%20%20%20%20%20%20%20%27map_ce002674d4e844d988e2cd428ca69be0%27%2C%20%7B%0A%20%20%20%20%20%20%20%20center%3A%20%5B0%2C%200%5D%2C%0A%20%20%20%20%20%20%20%20zoom%3A%201%2C%0A%20%20%20%20%20%20%20%20maxBounds%3A%20bounds%2C%0A%20%20%20%20%20%20%20%20layers%3A%20%5B%5D%2C%0A%20%20%20%20%20%20%20%20worldCopyJump%3A%20false%2C%0A%20%20%20%20%20%20%20%20crs%3A%20L.CRS.EPSG3857%2C%0A%20%20%20%20%20%20%20%20zoomControl%3A%20true%2C%0A%20%20%20%20%20%20%20%20%7D%29%3B%0A%0A%0A%20%20%20%20%0A%20%20%20%20var%20tile_layer_d8c03c8d0fa0453a8d7545842d8388ee%20%3D%20L.tileLayer%28%0A%20%20%20%20%20%20%20%20%27https%3A//%7Bs%7D.tile.openstreetmap.org/%7Bz%7D/%7Bx%7D/%7By%7D.png%27%2C%0A%20%20%20%20%20%20%20%20%7B%0A%20%20%20%20%20%20%20%20%22attribution%22%3A%20null%2C%0A%20%20%20%20%20%20%20%20%22detectRetina%22%3A%20false%2C%0A%20%20%20%20%20%20%20%20%22maxNativeZoom%22%3A%2018%2C%0A%20%20%20%20%20%20%20%20%22maxZoom%22%3A%2018%2C%0A%20%20%20%20%20%20%20%20%22minZoom%22%3A%200%2C%0A%20%20%20%20%20%20%20%20%22noWrap%22%3A%20false%2C%0A%20%20%20%20%20%20%20%20%22opacity%22%3A%201%2C%0A%20%20%20%20%20%20%20%20%22subdomains%22%3A%20%22abc%22%2C%0A%20%20%20%20%20%20%20%20%22tms%22%3A%20false%0A%7D%29.addTo%28map_ce002674d4e844d988e2cd428ca69be0%29%3B%0A%20%20%20%20%0A%20%20%20%20%20%20%20%20var%20marker_f1846d4ba47247aabb4f318be680b8e0%20%3D%20L.marker%28%0A%20%20%20%20%20%20%20%20%20%20%20%20%5B34.808868%2C%20-82.26915699999998%5D%2C%0A%20%20%20%20%20%20%20%20%20%20%20%20%7B%0A%20%20%20%20%20%20%20%20%20%20%20%20%20%20%20%20icon%3A%20new%20L.Icon.Default%28%29%2C%0A%20%20%20%20%20%20%20%20%20%20%20%20%20%20%20%20%7D%0A%20%20%20%20%20%20%20%20%20%20%20%20%29.addTo%28map_ce002674d4e844d988e2cd428ca69be0%29%3B%0A%20%20%20%20%20%20%20%20%0A%3C/script%3E onload=\"this.contentDocument.open();this.contentDocument.write(    decodeURIComponent(this.getAttribute('data-html')));this.contentDocument.close();\" allowfullscreen webkitallowfullscreen mozallowfullscreen></iframe></div></div>"
            ],
            "text/plain": [
              "<folium.folium.Map at 0x7f3630ddf6d0>"
            ]
          },
          "metadata": {
            "tags": []
          },
          "execution_count": 56
        }
      ]
    },
    {
      "cell_type": "code",
      "metadata": {
        "id": "yrf55IsyQcYl",
        "outputId": "0fa44a97-5570-46f7-a68b-eb883f12de01",
        "colab": {
          "base_uri": "https://localhost:8080/"
        }
      },
      "source": [
        "# Creating one zine list of logitude and Latitue column\n",
        " list(zip(list(df.Start_Lng), list(df.Start_Lat)))"
      ],
      "execution_count": 57,
      "outputs": [
        {
          "output_type": "execute_result",
          "data": {
            "text/plain": [
              "[(-82.26915699999998, 34.808868),\n",
              " (-80.74556, 35.09008),\n",
              " (-121.985052, 37.14573),\n",
              " (-119.773781, 39.11039),\n",
              " (-80.265091, 26.102942),\n",
              " (-80.84722099999998, 35.34824000000001),\n",
              " (-107.777, 39.52397),\n",
              " (-118.026972, 34.034017),\n",
              " (-86.83168, 35.86349000000001),\n",
              " (-118.5851, 34.42633),\n",
              " (-82.203583, 28.021709),\n",
              " (-73.875099, 40.91221),\n",
              " (-96.66617, 32.86693),\n",
              " (-110.90358700000002, 32.265141),\n",
              " (-74.25092, 41.05982),\n",
              " (-95.497337, 29.723339000000006),\n",
              " (-118.249969, 34.103172),\n",
              " (-117.439427, 34.186595000000004),\n",
              " (-82.918056, 42.501929),\n",
              " (-73.779556, 41.556862),\n",
              " (-84.33802800000002, 33.918056),\n",
              " (-78.759743, 35.596561),\n",
              " (-95.482445, 29.640491),\n",
              " (-79.913933, 37.40691),\n",
              " (-73.88461, 40.9122),\n",
              " (-122.069885, 37.994461),\n",
              " (-80.010628, 32.87109),\n",
              " (-97.753906, 30.426109000000004),\n",
              " (-118.049783, 33.774159000000004),\n",
              " (-85.500961, 43.22039),\n",
              " (-80.445924, 25.684458),\n",
              " (-78.412064, 43.003693),\n",
              " (-86.11689, 39.922646),\n",
              " (-91.140549, 30.420996),\n",
              " (-80.856415, 35.23932999999999),\n",
              " (-80.85037, 35.05473),\n",
              " (-117.320625, 34.037781),\n",
              " (-77.084549, 37.504467),\n",
              " (-111.9432, 33.38548),\n",
              " (-77.547005, 43.100197),\n",
              " (-79.92677900000002, 40.428002),\n",
              " (-121.464525, 38.510303),\n",
              " (-73.760338, 42.764778),\n",
              " (-82.451477, 28.698406),\n",
              " (-97.25763, 32.7584),\n",
              " (-122.365844, 40.619857),\n",
              " (-118.143219, 33.913502),\n",
              " (-93.247139, 44.852409),\n",
              " (-95.417068, 29.690945000000006),\n",
              " (-118.274465, 34.03542),\n",
              " (-80.068784, 26.61341),\n",
              " (-85.677254, 42.972679),\n",
              " (-80.414796, 25.685477),\n",
              " (-94.962033, 46.325429),\n",
              " (-84.908905, 39.826813),\n",
              " (-121.383059, 38.644922),\n",
              " (-80.77776, 35.25935),\n",
              " (-83.134422, 40.070709),\n",
              " (-77.38915, 38.48819),\n",
              " (-77.453568, 37.869022),\n",
              " (-83.684975, 43.005009),\n",
              " (-85.683899, 42.967983),\n",
              " (-73.831128, 42.972506),\n",
              " (-117.957603, 34.134365),\n",
              " (-74.472659, 40.353738),\n",
              " (-96.79058, 32.78758),\n",
              " (-106.484001, 31.759741),\n",
              " (-96.651512, 32.857914),\n",
              " (-81.670998, 30.334675),\n",
              " (-117.249238, 33.940923),\n",
              " (-81.98734300000002, 28.981974),\n",
              " (-112.26643, 33.4737),\n",
              " (-117.156586, 32.805706),\n",
              " (-76.846793, 38.864871),\n",
              " (-72.650444, 41.755451),\n",
              " (-122.116587, 37.8945),\n",
              " (-120.591355, 39.617117),\n",
              " (-121.908821, 36.577457),\n",
              " (-84.447914, 33.900101),\n",
              " (-83.691177, 42.928024),\n",
              " (-84.219994, 39.71571),\n",
              " (-87.993965, 41.773296),\n",
              " (-121.111046, 37.328154),\n",
              " (-93.09934, 44.95075),\n",
              " (-117.52449, 34.007862),\n",
              " (-80.090312, 26.429920000000006),\n",
              " (-80.794762, 35.25833499999999),\n",
              " (-77.11725, 38.80037),\n",
              " (-119.030632, 35.266849),\n",
              " (-75.422516, 38.384973),\n",
              " (-122.308882, 37.884749),\n",
              " (-92.645325, 44.570877),\n",
              " (-73.566048, 40.703041),\n",
              " (-77.546585, 43.077332),\n",
              " (-95.359451, 29.702297),\n",
              " (-88.16736999999998, 41.80175),\n",
              " (-73.77409399999998, 40.969318),\n",
              " (-90.06555, 35.07973),\n",
              " (-88.144798, 42.229309),\n",
              " (-73.857185, 40.67361500000001),\n",
              " (-118.42585, 34.247787),\n",
              " (-94.548073, 37.010113),\n",
              " (-75.09758000000002, 39.63915),\n",
              " (-122.47999, 45.52641),\n",
              " (-111.987923, 33.043757),\n",
              " (-111.011978, 32.295361),\n",
              " (-95.940956, 41.256569),\n",
              " (-73.64304, 40.68459),\n",
              " (-95.411613, 29.849245),\n",
              " (-121.671249, 39.301532),\n",
              " (-118.495922, 34.320664),\n",
              " (-85.131248, 35.059368),\n",
              " (-118.6521, 34.153442),\n",
              " (-104.87226, 39.5652),\n",
              " (-93.14115, 44.88001),\n",
              " (-73.855896, 40.931221),\n",
              " (-95.113021, 43.875922),\n",
              " (-121.260314, 38.000336),\n",
              " (-121.29229, 38.79095),\n",
              " (-82.919205, 42.495152),\n",
              " (-121.525634, 37.74219),\n",
              " (-118.00026, 34.06514),\n",
              " (-112.285217, 33.713829),\n",
              " (-97.491463, 35.45930900000001),\n",
              " (-95.25416, 29.70736),\n",
              " (-81.22747, 33.95966),\n",
              " (-79.018662, 35.963348),\n",
              " (-98.503296, 33.923618),\n",
              " (-117.548149, 34.052890999999995),\n",
              " (-118.249306, 34.063072),\n",
              " (-78.01289799999998, 40.820934),\n",
              " (-111.94854, 40.69675),\n",
              " (-78.63269, 35.590382),\n",
              " (-77.59918, 43.18084),\n",
              " (-122.148785, 37.756392),\n",
              " (-80.20109599999998, 25.942696),\n",
              " (-77.598946, 38.799801),\n",
              " (-75.151593, 40.070331),\n",
              " (-105.08863999999998, 39.78436),\n",
              " (-122.434761, 45.664909),\n",
              " (-118.176035, 34.005801),\n",
              " (-76.705742, 39.966751),\n",
              " (-86.740997, 34.753899),\n",
              " (-118.351929, 33.884048),\n",
              " (-120.867759, 38.454845),\n",
              " (-118.26597, 34.04821),\n",
              " (-75.42576, 40.64525),\n",
              " (-122.05225, 39.01001),\n",
              " (-80.979507, 32.3116),\n",
              " (-86.869011, 36.171581),\n",
              " (-118.17972, 34.14112),\n",
              " (-118.378448, 33.92638),\n",
              " (-97.671585, 30.424627),\n",
              " (-117.872309, 34.071883),\n",
              " (-88.737572, 44.347912),\n",
              " (-71.10301199999998, 42.430195),\n",
              " (-122.67851, 45.58187),\n",
              " (-71.06367, 41.9589),\n",
              " (-118.931871, 35.375984),\n",
              " (-81.564785, 30.403622),\n",
              " (-118.473406, 34.201108000000005),\n",
              " (-122.61118, 38.22317),\n",
              " (-122.347412, 47.650143),\n",
              " (-123.86201, 46.21548),\n",
              " (-80.37943299999998, 25.627335),\n",
              " (-86.58699399999998, 39.924939),\n",
              " (-76.95503199999997, 38.918324),\n",
              " (-84.02081, 43.84918),\n",
              " (-80.089449, 26.456837),\n",
              " (-96.043098, 41.224018),\n",
              " (-73.17304200000002, 41.177315),\n",
              " (-77.48455, 39.014515),\n",
              " (-90.917725, 30.464523),\n",
              " (-122.484029, 45.542439),\n",
              " (-88.9207, 34.40578),\n",
              " (-121.894058, 38.017952),\n",
              " (-97.666321, 30.456015),\n",
              " (-72.970589, 41.27264),\n",
              " (-93.33902, 45.123852),\n",
              " (-118.132591, 34.557976000000004),\n",
              " (-75.404449, 39.841164),\n",
              " (-118.492347, 34.165503),\n",
              " (-122.565521, 45.531761),\n",
              " (-121.934029, 38.358604),\n",
              " (-97.5672, 35.585209000000006),\n",
              " (-82.768204, 27.76623),\n",
              " (-111.90618, 40.611329),\n",
              " (-78.836472, 35.84600800000001),\n",
              " (-117.993202, 33.931194),\n",
              " (-74.10131, 40.18096),\n",
              " (-81.677643, 33.544922),\n",
              " (-121.90886, 37.47018),\n",
              " (-80.828453, 35.221828),\n",
              " (-95.688347, 29.784912),\n",
              " (-93.99379, 44.31172),\n",
              " (-97.14342, 32.958290000000005),\n",
              " (-117.11757, 32.71983),\n",
              " (-76.56695, 39.26285),\n",
              " (-112.28829, 33.46147),\n",
              " (-74.15786700000002, 40.903866),\n",
              " (-117.87666000000002, 33.68363),\n",
              " (-82.733963, 34.693901000000004),\n",
              " (-81.10059, 29.21297),\n",
              " (-82.29406, 34.82976),\n",
              " (-104.906487, 39.632698),\n",
              " (-83.2251, 42.26919),\n",
              " (-75.198631, 39.976933),\n",
              " (-78.836011, 38.521811),\n",
              " (-121.363862, 38.657713),\n",
              " (-94.709862, 39.105335),\n",
              " (-80.13744200000002, 37.267),\n",
              " (-118.43854, 34.036971),\n",
              " (-86.330162, 33.49411),\n",
              " (-95.031898, 29.797159000000004),\n",
              " (-81.669167, 30.337242),\n",
              " (-81.306679, 35.11739),\n",
              " (-121.44837, 36.521611),\n",
              " (-84.263733, 33.895256),\n",
              " (-93.29896, 44.86555),\n",
              " (-96.674858, 32.768566),\n",
              " (-80.251918, 25.734321),\n",
              " (-82.30504599999998, 34.698074),\n",
              " (-95.579627, 29.79659),\n",
              " (-84.497727, 33.651927),\n",
              " (-121.300972, 37.948418),\n",
              " (-94.398103, 38.938068),\n",
              " (-117.74564, 33.65761),\n",
              " (-118.21791, 34.03078),\n",
              " (-82.185303, 29.186419),\n",
              " (-76.379272, 40.355076),\n",
              " (-93.796127, 32.472916),\n",
              " (-82.42554, 27.95956),\n",
              " (-122.086945, 37.634975),\n",
              " (-74.302049, 40.484029),\n",
              " (-117.931015, 33.997040000000005),\n",
              " (-121.291099, 37.789969),\n",
              " (-86.12572, 39.7174),\n",
              " (-122.843275, 45.828438),\n",
              " (-81.56498, 28.348536),\n",
              " (-122.29391499999998, 47.463745),\n",
              " (-85.61639, 38.23583),\n",
              " (-80.117207, 26.31321),\n",
              " (-74.3014, 40.68915300000001),\n",
              " (-80.970139, 35.162048),\n",
              " (-81.729156, 33.516411),\n",
              " (-117.846367, 34.09943),\n",
              " (-117.989329, 33.732585),\n",
              " (-119.784837, 36.77562),\n",
              " (-117.974474, 34.034725),\n",
              " (-118.437836, 34.259491),\n",
              " (-84.194923, 39.74004),\n",
              " (-122.715965, 38.432375),\n",
              " (-77.457741, 37.622681),\n",
              " (-88.972939, 39.865639),\n",
              " (-97.618668, 35.423435),\n",
              " (-122.115387, 37.696018),\n",
              " (-86.05403100000002, 39.651718),\n",
              " (-77.582863, 39.327599),\n",
              " (-93.28492, 45.041573),\n",
              " (-118.457189, 34.061809000000004),\n",
              " (-72.899661, 41.580649),\n",
              " (-119.191689, 44.736202),\n",
              " (-124.12115, 43.04277),\n",
              " (-80.08927, 26.46674),\n",
              " (-80.84886, 35.304),\n",
              " (-117.47298, 33.89956),\n",
              " (-121.871205, 38.008226),\n",
              " (-80.608664, 28.285931),\n",
              " (-83.280821, 42.385137),\n",
              " (-122.425995, 37.620403),\n",
              " (-117.882774, 33.908318),\n",
              " (-69.925377, 44.144381),\n",
              " (-92.488159, 44.030651),\n",
              " (-97.601158, 35.496719),\n",
              " (-73.836497, 40.817029),\n",
              " (-80.958282, 33.994858),\n",
              " (-93.718437, 41.597691),\n",
              " (-97.638351, 35.557968),\n",
              " (-112.151688, 33.461964),\n",
              " (-122.45233, 37.64955),\n",
              " (-74.007675, 40.654079),\n",
              " (-86.87468, 36.34705),\n",
              " (-97.844037, 30.466084),\n",
              " (-83.723338, 43.043734),\n",
              " (-80.11098, 26.70676),\n",
              " (-76.108688, 40.196327),\n",
              " (-121.487221, 38.562206),\n",
              " (-94.6259, 39.062382),\n",
              " (-120.337151, 39.343011),\n",
              " (-86.76619699999998, 36.175961),\n",
              " (-78.76647, 42.94145),\n",
              " (-95.347444, 29.734968),\n",
              " (-118.368512, 33.946648),\n",
              " (-97.565651, 35.551079),\n",
              " (-83.07294, 42.36147),\n",
              " (-118.75722, 34.14565),\n",
              " (-121.36068, 42.397328),\n",
              " (-77.35896, 37.54805),\n",
              " (-73.191683, 41.17161),\n",
              " (-74.189888, 40.79871),\n",
              " (-75.635788, 40.247822),\n",
              " (-118.385757, 34.433743),\n",
              " (-81.38871999999998, 28.66436),\n",
              " (-123.18217, 44.11386),\n",
              " (-81.854828, 35.094120000000004),\n",
              " (-71.937218, 42.167667),\n",
              " (-93.571083, 41.877819),\n",
              " (-112.186234, 33.535),\n",
              " (-111.93896, 40.70396),\n",
              " (-97.108223, 33.18652),\n",
              " (-118.217363, 34.185817),\n",
              " (-121.419965, 38.597375),\n",
              " (-86.244186, 39.88203),\n",
              " (-76.392044, 40.160965),\n",
              " (-117.514503, 34.121311),\n",
              " (-85.765343, 38.258007),\n",
              " (-77.169777, 39.187038),\n",
              " (-117.575703, 34.028813),\n",
              " (-73.677544, 42.489758),\n",
              " (-82.160202, 34.892540000000004),\n",
              " (-117.92722, 33.996331),\n",
              " (-73.172539, 40.73724),\n",
              " (-85.672958, 38.111683),\n",
              " (-77.60041, 43.138062),\n",
              " (-111.904217, 33.291782),\n",
              " (-81.978729, 34.994781),\n",
              " (-73.75489, 42.666294),\n",
              " (-122.97781299999998, 44.912191),\n",
              " (-97.500694, 30.350527000000003),\n",
              " (-117.301628, 33.089451000000004),\n",
              " (-81.08152, 34.93185),\n",
              " (-81.856346, 26.564581),\n",
              " (-121.50469, 38.59085),\n",
              " (-96.899732, 32.90871),\n",
              " (-82.68933100000002, 34.436634000000005),\n",
              " (-76.626846, 38.989737),\n",
              " (-118.411911, 34.002491),\n",
              " (-75.320206, 40.065258),\n",
              " (-77.443588, 37.552776),\n",
              " (-90.06726, 29.9518),\n",
              " (-80.923485, 34.051727),\n",
              " (-82.267323, 34.856169),\n",
              " (-90.5242, 30.63799),\n",
              " (-118.169844, 34.044212),\n",
              " (-121.72836, 38.684384),\n",
              " (-123.91922, 45.93963),\n",
              " (-81.248032, 28.51001),\n",
              " (-87.988268, 42.153564),\n",
              " (-76.681099, 39.250969),\n",
              " (-94.49073, 39.07931),\n",
              " (-91.0401, 30.44211),\n",
              " (-79.39363, 40.284412),\n",
              " (-72.844148, 41.668731),\n",
              " (-73.467088, 40.776439),\n",
              " (-93.797218, 32.475221999999995),\n",
              " (-73.678947, 43.297569),\n",
              " (-82.276009, 34.861706),\n",
              " (-81.66879, 30.36783),\n",
              " (-80.20888000000002, 25.87242),\n",
              " (-77.333116, 37.539156),\n",
              " (-84.201233, 30.435011),\n",
              " (-84.267738, 33.5411),\n",
              " (-76.68930999999998, 39.20583),\n",
              " (-95.317154, 29.813528),\n",
              " (-75.24481, 39.88358),\n",
              " (-87.9702, 41.843773),\n",
              " (-88.23516, 41.87688),\n",
              " (-121.835043, 42.808024),\n",
              " (-96.729103, 32.792156),\n",
              " (-117.509277, 34.066146999999994),\n",
              " (-80.186628, 25.945438),\n",
              " (-76.821141, 40.285888),\n",
              " (-121.071808, 38.660194),\n",
              " (-118.18644, 33.90214),\n",
              " (-121.88498, 42.14015),\n",
              " (-81.27516899999998, 28.66403),\n",
              " (-77.49722, 38.33462),\n",
              " (-74.39267, 40.812576),\n",
              " (-76.283592, 36.845222),\n",
              " (-118.370316, 33.901752),\n",
              " (-117.79493, 33.8541),\n",
              " (-94.23755, 41.49366),\n",
              " (-95.41274, 29.91696),\n",
              " (-93.402077, 45.082928),\n",
              " (-97.49846, 35.39197),\n",
              " (-118.757423, 35.2943),\n",
              " (-90.412605, 38.743896),\n",
              " (-121.808708, 37.282066),\n",
              " (-118.402353, 33.992068),\n",
              " (-117.789865, 33.778082),\n",
              " (-121.47398, 38.544779),\n",
              " (-121.422653, 38.55085800000001),\n",
              " (-73.870201, 40.83593),\n",
              " (-122.590408, 45.562813),\n",
              " (-122.26836000000002, 47.46919000000001),\n",
              " (-80.723656, 40.888208),\n",
              " (-80.318649, 25.733028),\n",
              " (-83.12684, 42.36298),\n",
              " (-117.689803, 33.67016),\n",
              " (-94.72042, 38.93532),\n",
              " (-75.575129, 40.24158900000001),\n",
              " (-78.884323, 35.82915900000001),\n",
              " (-123.010934, 45.27793),\n",
              " (-74.09959, 40.39204),\n",
              " (-95.990227, 41.22699),\n",
              " (-82.75910999999998, 27.960513),\n",
              " (-73.83776, 41.04086),\n",
              " (-86.77624499999997, 36.206554),\n",
              " (-117.28183, 34.24316),\n",
              " (-84.599029, 33.403724),\n",
              " (-95.31073, 29.905119),\n",
              " (-95.352493, 29.677942),\n",
              " (-82.487072, 27.388454),\n",
              " (-76.60065, 39.15658),\n",
              " (-88.044342, 30.877176),\n",
              " (-81.537231, 30.139681),\n",
              " (-118.36934, 34.15311),\n",
              " (-112.047433, 33.46222),\n",
              " (-117.396399, 34.06132),\n",
              " (-77.56276700000002, 39.74847000000001),\n",
              " (-118.346886, 34.128815),\n",
              " (-110.975853, 32.17783),\n",
              " (-117.112515, 32.779443),\n",
              " (-120.236236, 37.959408),\n",
              " (-94.175552, 39.020229),\n",
              " (-80.05695300000002, 40.426502),\n",
              " (-122.034061, 38.299835),\n",
              " (-122.99738, 44.91861),\n",
              " (-75.005981, 39.870079),\n",
              " (-83.71045, 42.99213),\n",
              " (-86.654488, 36.02177800000001),\n",
              " (-118.338249, 34.19957),\n",
              " (-88.27771, 42.03027),\n",
              " (-106.46249, 31.77798),\n",
              " (-80.920937, 35.240379),\n",
              " (-86.97020699999999, 33.411137),\n",
              " (-80.141755, 26.203583),\n",
              " (-77.39779, 38.85297),\n",
              " (-94.733157, 38.93507),\n",
              " (-122.47563, 47.16736),\n",
              " (-96.014259, 41.299488),\n",
              " (-90.447556, 38.714451),\n",
              " (-77.339744, 37.34535),\n",
              " (-95.38967, 29.840179),\n",
              " (-96.90086, 32.663940000000004),\n",
              " (-122.56884, 45.44009000000001),\n",
              " (-117.672981, 33.551689),\n",
              " (-80.790314, 34.774818),\n",
              " (-71.199, 42.24531),\n",
              " (-82.354057, 28.069836),\n",
              " (-121.57576, 39.12569000000001),\n",
              " (-122.48667, 37.846089),\n",
              " (-94.587209, 39.154588),\n",
              " (-77.17886999999997, 38.86012),\n",
              " (-112.481903, 41.88232100000001),\n",
              " (-121.94223999999998, 38.45626),\n",
              " (-87.87095, 41.99173),\n",
              " (-87.86792, 41.989578),\n",
              " (-104.81505, 38.84218),\n",
              " (-122.287979, 40.440636),\n",
              " (-81.301735, 28.171101),\n",
              " (-95.605909, 29.625639000000003),\n",
              " (-86.664017, 36.26545),\n",
              " (-89.98331999999998, 35.2719),\n",
              " (-117.806824, 34.065228000000005),\n",
              " (-93.25941, 30.23708),\n",
              " (-85.64375, 42.97337),\n",
              " (-96.916878, 32.778492),\n",
              " (-86.14495, 39.75475),\n",
              " (-118.12106, 33.87631),\n",
              " (-74.07123100000003, 41.033882),\n",
              " (-118.31263, 33.860405),\n",
              " (-110.909508, 32.223412),\n",
              " (-93.101265, 44.95071),\n",
              " (-73.764015, 41.595047),\n",
              " (-93.085258, 44.848248),\n",
              " (-118.285871, 33.916758),\n",
              " (-80.169012, 25.875916),\n",
              " (-87.845528, 42.218056),\n",
              " (-77.729827, 40.944124),\n",
              " (-122.391823, 37.7855),\n",
              " (-87.904834, 42.291234),\n",
              " (-73.8672, 40.66045),\n",
              " (-87.87854, 42.279732),\n",
              " (-81.93167, 28.74878),\n",
              " (-75.33734, 40.59617),\n",
              " (-77.920006, 39.53414),\n",
              " (-117.28601, 33.0448),\n",
              " (-86.662178, 34.739841),\n",
              " (-73.82396700000002, 40.792934),\n",
              " (-78.744987, 35.761955),\n",
              " (-83.878075, 42.298378),\n",
              " (-79.81309499999998, 40.891945),\n",
              " (-122.057755, 37.929001),\n",
              " (-80.04954000000002, 32.93891),\n",
              " (-78.787849, 42.874249),\n",
              " (-122.34946399999998, 47.649307),\n",
              " (-122.376221, 47.668671),\n",
              " (-72.774369, 41.565275),\n",
              " (-77.40599, 37.37431),\n",
              " (-118.4685, 34.177111),\n",
              " (-96.08139, 41.190815),\n",
              " (-77.327789, 37.192772),\n",
              " (-74.31774899999998, 40.552364),\n",
              " (-118.470243, 34.293619),\n",
              " (-80.09659, 40.62268),\n",
              " (-73.995041, 40.704742),\n",
              " (-90.530266, 38.646744),\n",
              " (-96.817413, 32.811832),\n",
              " (-73.94493, 40.80842),\n",
              " (-97.681252, 30.428614000000003),\n",
              " (-122.30963, 37.55187),\n",
              " (-97.776615, 30.158553),\n",
              " (-81.793472, 26.61306),\n",
              " (-111.90229, 40.629429),\n",
              " (-85.657928, 43.012321),\n",
              " (-117.65341200000002, 34.366240999999995),\n",
              " (-78.620354, 35.827309),\n",
              " (-118.469818, 34.148075),\n",
              " (-116.92968799999998, 32.749599),\n",
              " (-95.349144, 29.68305),\n",
              " (-80.836258, 35.27271500000001),\n",
              " (-121.557852, 36.990612),\n",
              " (-73.60991, 42.51616),\n",
              " (-93.78126, 44.76519),\n",
              " (-121.92906200000002, 37.699375),\n",
              " (-93.029099, 45.222591),\n",
              " (-120.842419, 38.906714),\n",
              " (-119.42112, 36.239861),\n",
              " (-87.905559, 30.656706),\n",
              " (-118.173354, 34.016742),\n",
              " (-121.922081, 37.316757),\n",
              " (-80.23935999999998, 26.16483),\n",
              " (-119.807961, 39.572697),\n",
              " (-86.82158000000003, 33.49127),\n",
              " (-73.724091, 40.764152),\n",
              " (-77.293184, 40.644755),\n",
              " (-121.743866, 39.665768),\n",
              " (-118.209961, 34.641855),\n",
              " (-81.387535, 28.630995),\n",
              " (-76.181976, 40.263206),\n",
              " (-91.153587, 30.44323),\n",
              " (-73.48705, 40.70204),\n",
              " (-118.029207, 33.922749),\n",
              " (-117.446456, 33.912348),\n",
              " (-122.070733, 37.898679),\n",
              " (-82.64201, 34.704551),\n",
              " (-71.14894699999998, 42.212754),\n",
              " (-79.142303, 33.431629),\n",
              " (-96.856499, 32.773254),\n",
              " (-95.183022, 30.069355),\n",
              " (-118.227524, 34.07893),\n",
              " (-104.862534, 39.092316),\n",
              " (-76.873456, 40.130443),\n",
              " (-119.83921, 43.26641),\n",
              " (-86.620613, 32.825161),\n",
              " (-87.984047, 42.98843),\n",
              " (-84.176109, 39.752129),\n",
              " (-78.71189100000002, 35.888927),\n",
              " (-117.6716, 33.58017),\n",
              " (-98.403954, 29.378901000000006),\n",
              " (-92.009377, 30.135435),\n",
              " (-73.762527, 42.792507),\n",
              " (-76.62316, 39.16785),\n",
              " (-95.15798, 43.83709),\n",
              " (-121.58608999999998, 38.67138),\n",
              " (-76.91265899999998, 38.818534),\n",
              " (-77.460447, 37.76345300000001),\n",
              " (-75.64179200000002, 40.255001),\n",
              " (-76.59236999999997, 37.21507),\n",
              " (-96.897476, 32.873901000000004),\n",
              " (-95.956635, 41.322926),\n",
              " (-81.465019, 40.96344000000001),\n",
              " (-71.17735, 42.35776),\n",
              " (-122.51485, 47.2564),\n",
              " (-75.28514100000002, 40.111813),\n",
              " (-95.381279, 29.739517),\n",
              " (-122.32862, 47.7086),\n",
              " (-84.328194, 33.739643),\n",
              " (-96.823269, 32.69132800000001),\n",
              " (-85.647102, 42.912819),\n",
              " (-122.32485, 47.60147),\n",
              " (-119.662682, 36.606567),\n",
              " (-77.419726, 37.387119),\n",
              " (-104.719327, 38.691372),\n",
              " (-119.829788, 39.529675),\n",
              " (-72.922841, 41.668608),\n",
              " (-122.20279, 38.16735),\n",
              " (-118.422203, 34.019241),\n",
              " (-91.550224, 42.01990900000001),\n",
              " (-76.266922, 36.931141),\n",
              " (-76.98875, 38.87091),\n",
              " (-117.47285, 33.90034),\n",
              " (-87.98835, 41.90542),\n",
              " (-82.545387, 34.762852),\n",
              " (-76.831834, 39.157853),\n",
              " (-121.756935, 36.666962),\n",
              " (-84.064949, 35.921349),\n",
              " (-73.739655, 44.918663),\n",
              " (-118.185081, 33.815277),\n",
              " (-71.095314, 42.334366),\n",
              " (-73.40007, 43.554192),\n",
              " (-121.036942, 38.654709),\n",
              " (-121.32546, 38.321544),\n",
              " (-82.104239, 28.697873),\n",
              " (-117.38871, 33.946217),\n",
              " (-76.70889, 39.23406),\n",
              " (-84.33232, 33.83368),\n",
              " (-118.29126, 33.753777),\n",
              " (-118.823372, 35.151089),\n",
              " (-84.446114, 33.751446),\n",
              " (-118.47299, 34.23274),\n",
              " (-117.656415, 33.563098),\n",
              " (-87.81624000000002, 42.02602),\n",
              " (-84.21929, 40.14737),\n",
              " (-85.658455, 38.23587),\n",
              " (-121.007109, 37.639245),\n",
              " (-88.01263, 43.02751),\n",
              " (-118.856812, 39.514629),\n",
              " (-118.300323, 33.930969),\n",
              " (-86.76417, 36.170837),\n",
              " (-83.742805, 32.612583),\n",
              " (-71.25882, 42.42837100000001),\n",
              " (-122.625526, 38.24572),\n",
              " (-85.18820699999998, 35.073608),\n",
              " (-121.636625, 38.56368300000001),\n",
              " (-93.276695, 45.163956),\n",
              " (-76.493042, 40.029678),\n",
              " (-121.887871, 37.362774),\n",
              " (-95.455971, 29.766043),\n",
              " (-95.605743, 29.729774),\n",
              " (-82.4642, 27.95617),\n",
              " (-84.384727, 33.764568),\n",
              " (-82.938179, 42.494469),\n",
              " (-122.166817, 37.710659),\n",
              " (-80.888672, 34.114746000000004),\n",
              " (-80.166826, 26.010791),\n",
              " (-95.468704, 29.784473),\n",
              " (-82.787019, 27.885455),\n",
              " (-81.609154, 34.331055),\n",
              " (-83.36969, 32.624374),\n",
              " (-81.66866999999998, 30.35552),\n",
              " (-93.748596, 32.515087),\n",
              " (-97.554581, 30.340569),\n",
              " (-84.49068, 33.78989),\n",
              " (-118.03068, 34.03119),\n",
              " (-81.23786199999998, 34.145805),\n",
              " (-80.35164499999998, 25.686405),\n",
              " (-118.853742, 34.257332),\n",
              " (-78.834824, 35.748638),\n",
              " (-80.15353499999998, 25.963083),\n",
              " (-117.324977, 33.963913),\n",
              " (-87.95227, 42.61479),\n",
              " (-89.871643, 35.258881),\n",
              " (-79.33326, 35.93572),\n",
              " (-73.802017, 41.07552),\n",
              " (-93.265116, 44.96603),\n",
              " (-83.271271, 42.264896),\n",
              " (-112.047539, 33.54546),\n",
              " (-117.23262, 32.830425),\n",
              " (-77.670395, 43.001141),\n",
              " (-118.13109, 33.87628),\n",
              " (-86.678698, 34.741413),\n",
              " (-121.401497, 38.596024),\n",
              " (-121.86622, 38.011761),\n",
              " (-118.35237, 33.782509999999995),\n",
              " (-82.459595, 27.441839),\n",
              " (-122.112747, 38.231153000000006),\n",
              " (-122.064285, 37.603195),\n",
              " (-121.935356, 37.31749),\n",
              " (-117.906548, 33.687782),\n",
              " (-93.002742, 44.879065),\n",
              " (-75.233482, 43.04929),\n",
              " (-83.604378, 42.909031),\n",
              " (-78.64441, 35.75377),\n",
              " (-111.823003, 40.37692),\n",
              " (-82.530411, 29.843294),\n",
              " (-85.845001, 38.959431),\n",
              " (-80.82399000000002, 35.217152),\n",
              " (-84.391693, 33.791645),\n",
              " (-77.176147, 38.790883),\n",
              " (-122.198219, 37.742855),\n",
              " (-117.13446, 32.774640000000005),\n",
              " (-112.043892, 33.555344),\n",
              " (-75.42732, 39.83181),\n",
              " (-86.82634, 33.483948),\n",
              " (-82.557404, 28.450769),\n",
              " (-118.468437, 34.15005900000001),\n",
              " (-111.904762, 34.559639000000004),\n",
              " (-82.324852, 34.617359),\n",
              " (-119.976631, 36.880207),\n",
              " (-87.89508000000002, 42.36788),\n",
              " (-119.793557, 36.751447),\n",
              " (-77.576782, 43.196243),\n",
              " (-82.50083199999997, 34.74968),\n",
              " (-84.516632, 34.145939),\n",
              " (-80.361758, 25.883393),\n",
              " (-92.066566, 30.137239),\n",
              " (-73.48571, 40.70215),\n",
              " (-122.0606, 38.26073),\n",
              " (-77.232529, 42.978516),\n",
              " (-93.288506, 44.775101),\n",
              " (-120.502127, 46.93051),\n",
              " (-68.80843, 44.78704000000001),\n",
              " (-122.027931, 37.33453),\n",
              " (-87.830811, 42.231777),\n",
              " (-86.176788, 39.811752),\n",
              " (-87.678116, 41.932301),\n",
              " (-118.47654, 34.12536),\n",
              " (-75.10239, 39.87425),\n",
              " (-77.07574, 38.85122),\n",
              " (-73.440099, 41.099137),\n",
              " (-106.377172, 31.771512),\n",
              " (-120.783464, 39.210904),\n",
              " (-80.206795, 25.889368),\n",
              " (-86.687416, 33.418018),\n",
              " (-117.908268, 33.96021),\n",
              " (-74.208412, 40.4189),\n",
              " (-73.51018, 41.0613),\n",
              " (-82.66069, 27.792072),\n",
              " (-118.773637, 34.042334000000004),\n",
              " (-118.361083, 34.033696),\n",
              " (-112.14472, 35.25859000000001),\n",
              " (-77.24828199999997, 39.964121),\n",
              " (-75.10212, 39.871022),\n",
              " (-97.696831, 30.412809000000006),\n",
              " (-121.744728, 37.702255),\n",
              " (-83.91631, 34.17626),\n",
              " (-111.98176200000002, 40.653603),\n",
              " (-95.484161, 29.73068),\n",
              " (-80.865356, 35.229172),\n",
              " (-86.41124, 34.129452),\n",
              " (-76.359779, 40.060783),\n",
              " (-91.111308, 30.475215),\n",
              " (-87.63048, 41.8153),\n",
              " (-86.666557, 36.141407),\n",
              " (-118.413408, 34.381173),\n",
              " (-73.19519, 41.178349),\n",
              " (-117.698196, 34.082256),\n",
              " (-117.380767, 34.003284),\n",
              " (-81.40438, 28.37145),\n",
              " (-95.550169, 29.675388),\n",
              " (-71.340848, 41.94935200000001),\n",
              " (-91.028587, 30.543131),\n",
              " (-112.11437, 40.71806),\n",
              " (-75.388733, 40.25008),\n",
              " (-122.002274, 38.012596),\n",
              " (-75.32122, 40.06489600000001),\n",
              " (-121.382879, 38.617735),\n",
              " (-81.73946, 30.18701),\n",
              " (-118.228828, 34.028675),\n",
              " (-118.276449, 34.037999),\n",
              " (-82.429283, 34.912468),\n",
              " (-93.07786, 44.94409),\n",
              " (-76.30364399999998, 36.758495),\n",
              " (-95.4883, 29.61107),\n",
              " (-73.96579, 40.854481),\n",
              " (-122.110379, 37.670472),\n",
              " (-117.933701, 34.129723),\n",
              " (-111.83617, 33.58918),\n",
              " (-74.71434, 40.28586),\n",
              " (-117.091906, 33.738712),\n",
              " (-80.708903, 36.66982),\n",
              " (-118.195198, 34.021034),\n",
              " (-93.146957, 44.951866),\n",
              " (-96.769188, 32.898563),\n",
              " (-78.35730699999998, 41.82402),\n",
              " (-104.802345, 39.59483),\n",
              " (-82.28967, 34.837709999999994),\n",
              " (-96.6922, 32.79575),\n",
              " (-80.563202, 37.09657),\n",
              " (-120.895759, 37.540244),\n",
              " (-118.102577, 33.876289),\n",
              " (-80.64431, 33.394573),\n",
              " (-118.46961, 34.16108),\n",
              " (-73.65686, 40.59523),\n",
              " (-118.00633, 33.85611),\n",
              " (-82.433279, 34.865355),\n",
              " (-118.19254, 33.8784),\n",
              " (-78.560852, 35.777813),\n",
              " (-117.880076, 33.787947),\n",
              " (-120.93174, 44.81494),\n",
              " (-94.267719, 46.301641),\n",
              " (-104.83529, 39.77345),\n",
              " (-88.089287, 41.95929),\n",
              " (-73.819822, 40.709063),\n",
              " (-75.280905, 40.683006),\n",
              " (-93.703514, 41.581806),\n",
              " (-93.041512, 44.952644),\n",
              " (-118.149963, 34.035315999999995),\n",
              " (-72.66427, 41.73481),\n",
              " (-118.472832, 34.392521),\n",
              " (-82.288048, 34.82251),\n",
              " (-91.196554, 34.908939000000004),\n",
              " (-117.392105, 34.070496),\n",
              " (-117.509501, 34.124851),\n",
              " (-82.636016, 27.903095),\n",
              " (-86.80720500000002, 33.230209),\n",
              " (-122.059106, 37.595968),\n",
              " (-90.219955, 30.008568),\n",
              " (-86.73288000000002, 36.07215),\n",
              " (-74.312302, 41.477081),\n",
              " (-80.211472, 34.186409000000005),\n",
              " (-79.798828, 34.230522),\n",
              " (-81.66854000000002, 30.35021),\n",
              " (-84.658953, 42.17422),\n",
              " (-117.174211, 33.392072),\n",
              " (-92.871927, 47.478865),\n",
              " (-116.657, 43.65889),\n",
              " (-117.50985, 33.88998),\n",
              " (-95.410675, 29.735954),\n",
              " (-95.64492, 29.784895),\n",
              " (-121.82597, 43.01559),\n",
              " (-121.192345, 37.800674),\n",
              " (-121.94071, 37.326692),\n",
              " (-70.94408, 42.75262),\n",
              " (-117.8384, 33.674887),\n",
              " (-116.448243, 43.594297),\n",
              " (-75.18283000000002, 39.95111),\n",
              " (-83.15387700000002, 40.004341),\n",
              " (-81.310112, 28.480616),\n",
              " (-120.999881, 37.886386),\n",
              " (-121.138657, 37.75015300000001),\n",
              " (-84.50253000000002, 33.72029000000001),\n",
              " (-121.498053, 38.630543),\n",
              " (-81.260651, 28.548094),\n",
              " (-85.65168, 41.93976),\n",
              " (-87.067521, 30.389618),\n",
              " (-97.024734, 32.709896),\n",
              " (-84.38578199999998, 33.80271),\n",
              " (-120.39026, 39.326984),\n",
              " (-83.06276700000002, 42.378181),\n",
              " (-88.29720999999998, 42.06832),\n",
              " (-122.111336, 48.07196),\n",
              " (-84.36068, 39.268185),\n",
              " (-117.000073, 33.933499),\n",
              " (-120.382422, 45.69356),\n",
              " (-97.794464, 30.260363),\n",
              " (-118.00388, 34.06446),\n",
              " (-84.498451, 39.102356),\n",
              " (-96.97586, 32.67099),\n",
              " (-96.688438, 32.734257),\n",
              " (-93.51108, 45.29932),\n",
              " (-121.810371, 37.771553),\n",
              " (-78.58413399999998, 35.715639),\n",
              " (-118.41371200000002, 34.00634),\n",
              " (-121.24282, 38.77343),\n",
              " (-78.587456, 35.8242),\n",
              " (-122.068192, 37.608707),\n",
              " (-118.291702, 34.155396),\n",
              " (-79.880839, 40.430185),\n",
              " (-77.6064, 39.07679),\n",
              " (-88.16093000000002, 41.85697),\n",
              " (-73.904137, 40.844837),\n",
              " (-74.50895, 40.91078),\n",
              " (-94.124184, 45.575668),\n",
              " (-104.81922, 39.69667000000001),\n",
              " (-119.784885, 34.442143),\n",
              " (-123.625681, 40.936253),\n",
              " (-122.58606, 45.375734),\n",
              " (-118.223022, 33.916225),\n",
              " (-77.800186, 39.651531),\n",
              " (-76.490997, 40.044579),\n",
              " (-96.770355, 32.751759),\n",
              " (-79.98790699999998, 32.852734000000005),\n",
              " (-84.137787, 30.41016),\n",
              " (-111.256042, 34.25581),\n",
              " (-122.11238, 37.8952),\n",
              " (-87.66059, 41.90015),\n",
              " (-118.25041, 33.928740000000005),\n",
              " (-95.41623, 29.9466),\n",
              " (-94.892532, 39.11364),\n",
              " (-73.916061, 41.527344),\n",
              " (-82.00431800000001, 34.916744),\n",
              " (-90.11367, 29.981182),\n",
              " (-80.76664699999998, 35.106468),\n",
              " (-74.251366, 41.029095),\n",
              " (-84.494003, 33.934631),\n",
              " (-93.26431, 30.23735),\n",
              " (-118.291693, 34.078987),\n",
              " (-122.336151, 47.661381),\n",
              " (-121.297215, 37.807884),\n",
              " (-93.159867, 45.062237),\n",
              " (-76.196342, 36.845505),\n",
              " (-97.30658, 32.746639),\n",
              " (-84.40289, 33.629433),\n",
              " (-97.062378, 32.759537),\n",
              " (-76.52409, 40.42476),\n",
              " (-82.558578, 28.041037),\n",
              " (-72.883698, 40.847298),\n",
              " (-118.16787, 33.968163),\n",
              " (-96.82267, 32.67951),\n",
              " (-117.34403, 34.01334),\n",
              " (-80.924461, 33.954479),\n",
              " (-82.30246, 28.001841),\n",
              " (-96.685028, 32.792442),\n",
              " (-80.76953, 35.05104),\n",
              " (-122.006729, 37.768478),\n",
              " (-117.10351, 32.95215),\n",
              " (-77.978882, 35.833744),\n",
              " (-117.73398, 34.02502),\n",
              " (-80.573437, 37.092485),\n",
              " (-118.040102, 34.025956),\n",
              " (-93.052864, 45.079498),\n",
              " (-123.87196000000002, 46.23506),\n",
              " (-74.051147, 40.760189),\n",
              " (-84.4963, 33.75119),\n",
              " (-92.8301, 45.77352),\n",
              " (-117.83391, 33.74071),\n",
              " (-117.984634, 34.018436),\n",
              " (-80.34227, 25.94235),\n",
              " (-94.85307, 38.94522),\n",
              " (-92.833131, 35.221835),\n",
              " (-118.431236, 34.155727),\n",
              " (-122.82353, 45.2133),\n",
              " (-95.435562, 30.10803),\n",
              " (-96.110283, 41.213799),\n",
              " (-118.69888600000002, 34.147237),\n",
              " (-122.159524, 37.892591),\n",
              " (-118.192258, 34.020633000000004),\n",
              " (-118.474275, 34.186754),\n",
              " (-83.09566, 42.40348),\n",
              " (-121.47773, 38.64056400000001),\n",
              " (-74.44404, 40.5018),\n",
              " (-118.291794, 33.901897),\n",
              " (-120.37615, 42.19334),\n",
              " (-86.738043, 36.261977),\n",
              " (-119.117767, 36.289661),\n",
              " (-76.160831, 39.884051),\n",
              " (-79.38226, 40.10962),\n",
              " (-73.816696, 41.035675),\n",
              " (-80.41471800000002, 25.630294),\n",
              " (-87.74721, 41.96341),\n",
              " (-80.302995, 25.77773),\n",
              " (-82.361328, 34.878521),\n",
              " (-121.471695, 36.95016500000001),\n",
              " (-77.192484, 38.737267),\n",
              " (-111.758102, 40.03244),\n",
              " (-84.43203000000003, 33.90651),\n",
              " (-82.42546999999998, 27.576923),\n",
              " (-76.579894, 38.911391),\n",
              " (-118.284809, 33.856840000000005),\n",
              " (-73.68463100000002, 43.327518),\n",
              " (-77.369875, 38.863026),\n",
              " (-122.29628, 47.608002),\n",
              " (-122.392258, 37.759823),\n",
              " (-118.293724, 33.797779),\n",
              " (-95.953331, 41.219711),\n",
              " (-117.906235, 33.986732),\n",
              " (-123.047989, 45.244923),\n",
              " (-117.92028, 33.7677),\n",
              " (-121.991977, 37.390098),\n",
              " (-92.052452, 30.224709000000004),\n",
              " (-118.319696, 34.104040000000005),\n",
              " (-86.782036, 36.168259),\n",
              " (-80.774117, 35.15279),\n",
              " (-95.262558, 29.872042),\n",
              " (-118.478905, 34.303802000000005),\n",
              " (-120.208637, 38.628149),\n",
              " (-118.451965, 34.055695),\n",
              " (-118.375259, 34.15424),\n",
              " (-78.736099, 35.76886),\n",
              " (-73.96011, 40.85306),\n",
              " (-77.319283, 39.514046),\n",
              " (-81.637291, 30.184739),\n",
              " (-93.058029, 45.053483),\n",
              " (-78.620384, 35.827312),\n",
              " (-82.568765, 27.567875),\n",
              " (-81.747263, 30.160873),\n",
              " (-86.07985, 42.783209),\n",
              " (-73.483921, 42.840167),\n",
              " (-83.62281800000002, 42.945187),\n",
              " (-82.32975, 27.93755),\n",
              " (-81.740948, 33.575444),\n",
              " (-77.613722, 43.174896),\n",
              " (-93.288147, 44.697693),\n",
              " (-117.86739, 33.77817),\n",
              " (-95.430809, 29.624031),\n",
              " (-91.010925, 30.425835),\n",
              " (-118.4122, 34.00444),\n",
              " (-81.60181, 28.727290000000004),\n",
              " (-77.42849, 38.84737),\n",
              " (-80.219009, 26.13603),\n",
              " (-118.002724, 33.743111),\n",
              " (-81.71521, 26.6217),\n",
              " (-80.917374, 36.941958),\n",
              " (-122.20299, 38.16722),\n",
              " (-93.20884, 44.784027),\n",
              " (-122.27629, 37.56174),\n",
              " (-80.17444, 26.45408),\n",
              " (-73.854675, 40.758507),\n",
              " (-81.448527, 28.635424),\n",
              " (-77.223, 38.70697),\n",
              " (-77.8545, 40.785793),\n",
              " (-78.60642, 35.83492000000001),\n",
              " (-88.22333499999998, 42.066444),\n",
              " (-93.285942, 45.069469),\n",
              " (-122.227669, 47.636021),\n",
              " (-85.626609, 42.912641),\n",
              " (-122.670754, 45.507012),\n",
              " ...]"
            ]
          },
          "metadata": {
            "tags": []
          },
          "execution_count": 57
        }
      ]
    },
    {
      "cell_type": "code",
      "metadata": {
        "id": "24dzjtSSQcPE"
      },
      "source": [
        "from folium import plugins"
      ],
      "execution_count": 58,
      "outputs": []
    },
    {
      "cell_type": "code",
      "metadata": {
        "id": "_nHuiRDkQcH6"
      },
      "source": [
        "from folium.plugins import HeatMap"
      ],
      "execution_count": 59,
      "outputs": []
    },
    {
      "cell_type": "code",
      "metadata": {
        "id": "L1GV-fRpqF-b"
      },
      "source": [
        "sample_df = df.sample(int(0.0001* len(df)))\n",
        "lat_lon_pairs = list(zip(list(sample_df.Start_Lat), list(sample_df.Start_Lng)))"
      ],
      "execution_count": 60,
      "outputs": []
    },
    {
      "cell_type": "code",
      "metadata": {
        "id": "dBbSwSxIQcgx",
        "outputId": "d64dd5de-5a54-494a-81a4-0719320195d7",
        "colab": {
          "base_uri": "https://localhost:8080/",
          "height": 856
        }
      },
      "source": [
        "#Showing accidents through heatmap in different location, using 0.01% of total data\n",
        "map = folium.Map()\n",
        "HeatMap(lat_lon_pairs).add_to(map)\n",
        "map"
      ],
      "execution_count": 61,
      "outputs": [
        {
          "output_type": "execute_result",
          "data": {
            "text/html": [
              "<div style=\"width:100%;\"><div style=\"position:relative;width:100%;height:0;padding-bottom:60%;\"><span style=\"color:#565656\">Make this Notebook Trusted to load map: File -> Trust Notebook</span><iframe src=\"about:blank\" style=\"position:absolute;width:100%;height:100%;left:0;top:0;border:none !important;\" data-html=%3C%21DOCTYPE%20html%3E%0A%3Chead%3E%20%20%20%20%0A%20%20%20%20%3Cmeta%20http-equiv%3D%22content-type%22%20content%3D%22text/html%3B%20charset%3DUTF-8%22%20/%3E%0A%20%20%20%20%3Cscript%3EL_PREFER_CANVAS%3Dfalse%3B%20L_NO_TOUCH%3Dfalse%3B%20L_DISABLE_3D%3Dfalse%3B%3C/script%3E%0A%20%20%20%20%3Cscript%20src%3D%22https%3A//cdn.jsdelivr.net/npm/leaflet%401.4.0/dist/leaflet.js%22%3E%3C/script%3E%0A%20%20%20%20%3Cscript%20src%3D%22https%3A//code.jquery.com/jquery-1.12.4.min.js%22%3E%3C/script%3E%0A%20%20%20%20%3Cscript%20src%3D%22https%3A//maxcdn.bootstrapcdn.com/bootstrap/3.2.0/js/bootstrap.min.js%22%3E%3C/script%3E%0A%20%20%20%20%3Cscript%20src%3D%22https%3A//cdnjs.cloudflare.com/ajax/libs/Leaflet.awesome-markers/2.0.2/leaflet.awesome-markers.js%22%3E%3C/script%3E%0A%20%20%20%20%3Clink%20rel%3D%22stylesheet%22%20href%3D%22https%3A//cdn.jsdelivr.net/npm/leaflet%401.4.0/dist/leaflet.css%22/%3E%0A%20%20%20%20%3Clink%20rel%3D%22stylesheet%22%20href%3D%22https%3A//maxcdn.bootstrapcdn.com/bootstrap/3.2.0/css/bootstrap.min.css%22/%3E%0A%20%20%20%20%3Clink%20rel%3D%22stylesheet%22%20href%3D%22https%3A//maxcdn.bootstrapcdn.com/bootstrap/3.2.0/css/bootstrap-theme.min.css%22/%3E%0A%20%20%20%20%3Clink%20rel%3D%22stylesheet%22%20href%3D%22https%3A//maxcdn.bootstrapcdn.com/font-awesome/4.6.3/css/font-awesome.min.css%22/%3E%0A%20%20%20%20%3Clink%20rel%3D%22stylesheet%22%20href%3D%22https%3A//cdnjs.cloudflare.com/ajax/libs/Leaflet.awesome-markers/2.0.2/leaflet.awesome-markers.css%22/%3E%0A%20%20%20%20%3Clink%20rel%3D%22stylesheet%22%20href%3D%22https%3A//rawcdn.githack.com/python-visualization/folium/master/folium/templates/leaflet.awesome.rotate.css%22/%3E%0A%20%20%20%20%3Cstyle%3Ehtml%2C%20body%20%7Bwidth%3A%20100%25%3Bheight%3A%20100%25%3Bmargin%3A%200%3Bpadding%3A%200%3B%7D%3C/style%3E%0A%20%20%20%20%3Cstyle%3E%23map%20%7Bposition%3Aabsolute%3Btop%3A0%3Bbottom%3A0%3Bright%3A0%3Bleft%3A0%3B%7D%3C/style%3E%0A%20%20%20%20%0A%20%20%20%20%3Cmeta%20name%3D%22viewport%22%20content%3D%22width%3Ddevice-width%2C%0A%20%20%20%20%20%20%20%20initial-scale%3D1.0%2C%20maximum-scale%3D1.0%2C%20user-scalable%3Dno%22%20/%3E%0A%20%20%20%20%3Cstyle%3E%23map_512bd324517f4c2b9a1cbb3aa928b613%20%7B%0A%20%20%20%20%20%20%20%20position%3A%20relative%3B%0A%20%20%20%20%20%20%20%20width%3A%20100.0%25%3B%0A%20%20%20%20%20%20%20%20height%3A%20100.0%25%3B%0A%20%20%20%20%20%20%20%20left%3A%200.0%25%3B%0A%20%20%20%20%20%20%20%20top%3A%200.0%25%3B%0A%20%20%20%20%20%20%20%20%7D%0A%20%20%20%20%3C/style%3E%0A%20%20%20%20%3Cscript%20src%3D%22https%3A//leaflet.github.io/Leaflet.heat/dist/leaflet-heat.js%22%3E%3C/script%3E%0A%3C/head%3E%0A%3Cbody%3E%20%20%20%20%0A%20%20%20%20%0A%20%20%20%20%3Cdiv%20class%3D%22folium-map%22%20id%3D%22map_512bd324517f4c2b9a1cbb3aa928b613%22%20%3E%3C/div%3E%0A%3C/body%3E%0A%3Cscript%3E%20%20%20%20%0A%20%20%20%20%0A%20%20%20%20%0A%20%20%20%20%20%20%20%20var%20bounds%20%3D%20null%3B%0A%20%20%20%20%0A%0A%20%20%20%20var%20map_512bd324517f4c2b9a1cbb3aa928b613%20%3D%20L.map%28%0A%20%20%20%20%20%20%20%20%27map_512bd324517f4c2b9a1cbb3aa928b613%27%2C%20%7B%0A%20%20%20%20%20%20%20%20center%3A%20%5B0%2C%200%5D%2C%0A%20%20%20%20%20%20%20%20zoom%3A%201%2C%0A%20%20%20%20%20%20%20%20maxBounds%3A%20bounds%2C%0A%20%20%20%20%20%20%20%20layers%3A%20%5B%5D%2C%0A%20%20%20%20%20%20%20%20worldCopyJump%3A%20false%2C%0A%20%20%20%20%20%20%20%20crs%3A%20L.CRS.EPSG3857%2C%0A%20%20%20%20%20%20%20%20zoomControl%3A%20true%2C%0A%20%20%20%20%20%20%20%20%7D%29%3B%0A%0A%0A%20%20%20%20%0A%20%20%20%20var%20tile_layer_26584f9b202f44628ecf1e06053032d5%20%3D%20L.tileLayer%28%0A%20%20%20%20%20%20%20%20%27https%3A//%7Bs%7D.tile.openstreetmap.org/%7Bz%7D/%7Bx%7D/%7By%7D.png%27%2C%0A%20%20%20%20%20%20%20%20%7B%0A%20%20%20%20%20%20%20%20%22attribution%22%3A%20null%2C%0A%20%20%20%20%20%20%20%20%22detectRetina%22%3A%20false%2C%0A%20%20%20%20%20%20%20%20%22maxNativeZoom%22%3A%2018%2C%0A%20%20%20%20%20%20%20%20%22maxZoom%22%3A%2018%2C%0A%20%20%20%20%20%20%20%20%22minZoom%22%3A%200%2C%0A%20%20%20%20%20%20%20%20%22noWrap%22%3A%20false%2C%0A%20%20%20%20%20%20%20%20%22opacity%22%3A%201%2C%0A%20%20%20%20%20%20%20%20%22subdomains%22%3A%20%22abc%22%2C%0A%20%20%20%20%20%20%20%20%22tms%22%3A%20false%0A%7D%29.addTo%28map_512bd324517f4c2b9a1cbb3aa928b613%29%3B%0A%20%20%20%20%0A%20%20%20%20%20%20%20%20%20%20%20%20var%20heat_map_b073ba66bcb247b5a577207060507af6%20%3D%20L.heatLayer%28%0A%20%20%20%20%20%20%20%20%20%20%20%20%20%20%20%20%5B%5B33.62104%2C%20-84.46951999999997%5D%2C%20%5B34.03448%2C%20-118.26714%5D%2C%20%5B29.856174%2C%20-95.311432%5D%2C%20%5B38.4991%2C%20-122.7605%5D%2C%20%5B40.851616%2C%20-73.952995%5D%2C%20%5B45.069717%2C%20-93.287025%5D%2C%20%5B47.71929%2C%20-122.29788%5D%2C%20%5B43.130836%2C%20-77.661179%5D%2C%20%5B41.810663%2C%20-124.126268%5D%2C%20%5B33.983509999999995%2C%20-118.073388%5D%2C%20%5B32.826015000000005%2C%20-96.624748%5D%2C%20%5B48.946018%2C%20-122.485336%5D%2C%20%5B34.004787%2C%20-118.173027%5D%2C%20%5B37.701576%2C%20-121.872177%5D%2C%20%5B34.152473%2C%20-118.1213%5D%2C%20%5B36.653564%2C%20-78.10730699999998%5D%2C%20%5B42.867209%2C%20-73.797229%5D%2C%20%5B38.971046%2C%20-94.545702%5D%2C%20%5B34.139359000000006%2C%20-118.471291%5D%2C%20%5B39.83289%2C%20-104.773018%5D%2C%20%5B30.188521%2C%20-97.567337%5D%2C%20%5B40.828297%2C%20-73.93111400000002%5D%2C%20%5B34.114422%2C%20-81.252167%5D%2C%20%5B33.81531%2C%20-117.51178%5D%2C%20%5B34.98520300000001%2C%20-118.946155%5D%2C%20%5B38.54592%2C%20-77.33654%5D%2C%20%5B42.926929%2C%20-85.584618%5D%2C%20%5B39.797939%2C%20-84.255119%5D%2C%20%5B33.873490000000004%2C%20-118.010148%5D%2C%20%5B34.071938%2C%20-118.266922%5D%2C%20%5B39.906251%2C%20-104.829938%5D%2C%20%5B35.772957%2C%20-78.640511%5D%2C%20%5B32.792233%2C%20-117.112289%5D%2C%20%5B32.979966999999995%2C%20-117.25323%5D%2C%20%5B35.835381%2C%20-78.303925%5D%2C%20%5B39.378475%2C%20-121.523383%5D%2C%20%5B40.72765%2C%20-112.167%5D%2C%20%5B34.081574%2C%20-117.723001%5D%2C%20%5B36.13002%2C%20-86.90065799999998%5D%2C%20%5B44.817148%2C%20-93.596853%5D%2C%20%5B38.921314%2C%20-77.216095%5D%2C%20%5B39.40161%2C%20-76.56345999999998%5D%2C%20%5B37.68668%2C%20-122.1301%5D%2C%20%5B34.152561%2C%20-118.109543%5D%2C%20%5B34.111252%2C%20-80.948311%5D%2C%20%5B39.86974%2C%20-86.146141%5D%2C%20%5B40.853588%2C%20-77.886238%5D%2C%20%5B42.243332%2C%20-73.768194%5D%2C%20%5B34.03047%2C%20-117.59817%5D%2C%20%5B30.327426000000006%2C%20-97.634714%5D%2C%20%5B42.342756%2C%20-71.061683%5D%2C%20%5B40.71497%2C%20-73.410057%5D%2C%20%5B33.986157%2C%20-117.872151%5D%2C%20%5B40.31089%2C%20-83.05353000000002%5D%2C%20%5B26.146321%2C%20-80.689903%5D%2C%20%5B36.867268%2C%20-76.422363%5D%2C%20%5B33.077278%2C%20-96.685471%5D%2C%20%5B30.3959%2C%20-86.592732%5D%2C%20%5B38.207157%2C%20-85.75014499999997%5D%2C%20%5B34.079559%2C%20-81.06604%5D%2C%20%5B28.706028000000003%2C%20-81.488487%5D%2C%20%5B32.221509999999995%2C%20-110.871957%5D%2C%20%5B35.223667%2C%20-80.826736%5D%2C%20%5B41.058025%2C%20-73.816811%5D%2C%20%5B37.509953%2C%20-122.251465%5D%2C%20%5B39.57284%2C%20-107.45388%5D%2C%20%5B33.725815000000004%2C%20-117.803902%5D%2C%20%5B25.94605%2C%20-80.16496%5D%2C%20%5B45.126389%2C%20-93.484856%5D%2C%20%5B39.841576%2C%20-76.904057%5D%2C%20%5B34.910719%2C%20-82.112379%5D%2C%20%5B40.925308%2C%20-73.85821800000002%5D%2C%20%5B32.774513%2C%20-96.813271%5D%2C%20%5B33.974651%2C%20-118.280991%5D%2C%20%5B45.070732%2C%20-123.723346%5D%2C%20%5B43.128421%2C%20-77.484047%5D%2C%20%5B33.842040999999995%2C%20-118.290024%5D%2C%20%5B42.858406%2C%20-73.77447%5D%2C%20%5B35.34862899999999%2C%20-80.73655699999998%5D%2C%20%5B41.47181%2C%20-73.21726%5D%2C%20%5B30.46035%2C%20-91.156036%5D%2C%20%5B45.77226%2C%20-119.257303%5D%2C%20%5B34.210317%2C%20-118.473438%5D%2C%20%5B44.700001%2C%20-93.597214%5D%2C%20%5B34.106606%2C%20-118.25583600000002%5D%2C%20%5B36.99832%2C%20-76.40907%5D%2C%20%5B40.674343%2C%20-111.901459%5D%2C%20%5B38.68278%2C%20-90.23353%5D%2C%20%5B40.076569%2C%20-75.159198%5D%2C%20%5B34.817708%2C%20-118.884761%5D%2C%20%5B41.315556%2C%20-72.90800899999998%5D%2C%20%5B38.604412%2C%20-121.325004%5D%2C%20%5B33.494890000000005%2C%20-112.13434%5D%2C%20%5B41.37178%2C%20-73.80086%5D%2C%20%5B34.172314%2C%20-118.57093799999998%5D%2C%20%5B41.89027%2C%20-87.959316%5D%2C%20%5B33.837374%2C%20-117.261596%5D%2C%20%5B30.303619%2C%20-97.716003%5D%2C%20%5B37.460377%2C%20-122.140938%5D%2C%20%5B39.89654%2C%20-75.07165%5D%2C%20%5B42.745075%2C%20-84.508583%5D%2C%20%5B41.595673%2C%20-93.617378%5D%2C%20%5B30.341599%2C%20-97.552149%5D%2C%20%5B35.434269%2C%20-97.5084%5D%2C%20%5B42.73014000000001%2C%20-89.28773000000002%5D%2C%20%5B37.736153%2C%20-77.453192%5D%2C%20%5B33.744675%2C%20-84.39057199999998%5D%2C%20%5B27.937976000000006%2C%20-82.251956%5D%2C%20%5B42.49025%2C%20-83.28556800000001%5D%2C%20%5B32.87376%2C%20-96.897873%5D%2C%20%5B42.35878%2C%20-83.07650799999998%5D%2C%20%5B40.081524%2C%20-75.144379%5D%2C%20%5B38.00154000000001%2C%20-122.03773%5D%2C%20%5B39.17312%2C%20-94.54571%5D%2C%20%5B38.57724%2C%20-121.525108%5D%2C%20%5B39.751457%2C%20-86.033241%5D%2C%20%5B33.542271%2C%20-117.673592%5D%2C%20%5B41.837982%2C%20-72.66529799999998%5D%2C%20%5B37.69812%2C%20-121.93979%5D%2C%20%5B37.99405%2C%20-122.03914%5D%2C%20%5B45.40374%2C%20-122.74468%5D%2C%20%5B42.925938%2C%20-83.632121%5D%2C%20%5B33.391811%2C%20-82.005081%5D%2C%20%5B34.966301%2C%20-82.26892099999998%5D%2C%20%5B35.382381%2C%20-119.044343%5D%2C%20%5B37.932522%2C%20-122.403534%5D%2C%20%5B42.940255%2C%20-85.658959%5D%2C%20%5B47.180885%2C%20-122.357201%5D%2C%20%5B29.941183%2C%20-90.07169300000002%5D%2C%20%5B34.353216%2C%20-117.622195%5D%2C%20%5B34.078362%2C%20-117.741556%5D%2C%20%5B33.504036%2C%20-80.897797%5D%2C%20%5B34.365108%2C%20-118.503716%5D%2C%20%5B47.534733%2C%20-95.0132%5D%2C%20%5B44.970849%2C%20-93.421994%5D%2C%20%5B36.16125%2C%20-96.01988%5D%2C%20%5B40.6881%2C%20-74.20403%5D%2C%20%5B37.712473%2C%20-121.715963%5D%2C%20%5B33.504213%2C%20-117.152763%5D%2C%20%5B40.687946%2C%20-89.58345%5D%2C%20%5B28.50717%2C%20-81.417633%5D%2C%20%5B30.676279%2C%20-88.124023%5D%2C%20%5B36.43379%2C%20-77.62954%5D%2C%20%5B38.6425%2C%20-121.3947%5D%2C%20%5B40.274692%2C%20-75.25921600000002%5D%2C%20%5B25.70391%2C%20-80.29001%5D%2C%20%5B27.98143%2C%20-82.28609499999997%5D%2C%20%5B37.602032%2C%20-77.449211%5D%2C%20%5B34.026825%2C%20-117.567787%5D%2C%20%5B35.226406%2C%20-80.910301%5D%2C%20%5B28.18954%2C%20-82.38591%5D%2C%20%5B34.136032%2C%20-117.236847%5D%2C%20%5B27.748373%2C%20-82.679314%5D%2C%20%5B41.28397%2C%20-96.075142%5D%2C%20%5B25.829468%2C%20-80.322085%5D%2C%20%5B41.80877%2C%20-88.05211%5D%2C%20%5B33.852848%2C%20-118.279655%5D%2C%20%5B27.338094%2C%20-82.458299%5D%2C%20%5B36.624626%2C%20-121.582863%5D%2C%20%5B33.98774%2C%20-118.398956%5D%2C%20%5B32.803446%2C%20-96.793276%5D%2C%20%5B36.793981%2C%20-119.800665%5D%2C%20%5B30.43667%2C%20-85.185852%5D%2C%20%5B32.711631%2C%20-117.130227%5D%2C%20%5B35.37108%2C%20-118.967492%5D%2C%20%5B38.672535%2C%20-90.449135%5D%2C%20%5B35.834667%2C%20-78.638649%5D%2C%20%5B33.531872%2C%20-112.00399%5D%2C%20%5B37.25795%2C%20-122.09366%5D%2C%20%5B25.847122%2C%20-80.207489%5D%2C%20%5B47.626503%2C%20-122.328613%5D%2C%20%5B35.282219%2C%20-80.914253%5D%2C%20%5B32.898171000000005%2C%20-96.4667%5D%2C%20%5B35.05938%2C%20-85.274773%5D%2C%20%5B35.20496%2C%20-80.839798%5D%2C%20%5B45.548981%2C%20-122.568222%5D%2C%20%5B33.773709999999994%2C%20-118.00601%5D%2C%20%5B40.216579%2C%20-75.664085%5D%2C%20%5B39.990009%2C%20-75.468712%5D%2C%20%5B45.47204%2C%20-122.57906%5D%2C%20%5B42.494667%2C%20-82.94534300000002%5D%2C%20%5B38.87817800000001%2C%20-77.267601%5D%2C%20%5B34.149101%2C%20-118.051308%5D%2C%20%5B26.336599%2C%20-81.751102%5D%2C%20%5B32.446411%2C%20-84.92791700000002%5D%2C%20%5B44.951797%2C%20-93.159225%5D%2C%20%5B34.90202%2C%20-82.23755600000001%5D%2C%20%5B25.660045%2C%20-80.416037%5D%2C%20%5B30.368757%2C%20-97.743057%5D%2C%20%5B41.89314%2C%20-87.63709%5D%2C%20%5B42.76252%2C%20-73.88398000000002%5D%2C%20%5B34.119789000000004%2C%20-117.761612%5D%2C%20%5B29.71771%2C%20-95.538979%5D%2C%20%5B32.760036%2C%20-97.167191%5D%2C%20%5B35.42369%2C%20-77.94861%5D%2C%20%5B34.750858%2C%20-120.520432%5D%2C%20%5B32.751020000000004%2C%20-97.31962%5D%2C%20%5B42.465087%2C%20-92.316023%5D%2C%20%5B45.422104%2C%20-122.576512%5D%2C%20%5B33.421989%2C%20-111.909103%5D%2C%20%5B43.051661%2C%20-76.12758000000002%5D%2C%20%5B34.146957%2C%20-118.370216%5D%2C%20%5B33.872064%2C%20-117.665251%5D%2C%20%5B46.803493%2C%20-92.068031%5D%2C%20%5B28.11516%2C%20-82.37164%5D%2C%20%5B34.167404%2C%20-79.308167%5D%2C%20%5B34.016125%2C%20-118.136986%5D%2C%20%5B36.130619%2C%20-95.96254%5D%2C%20%5B41.293961%2C%20-72.783325%5D%2C%20%5B34.296791%2C%20-80.157837%5D%2C%20%5B33.990162%2C%20-117.917755%5D%2C%20%5B42.01228%2C%20-87.69024%5D%2C%20%5B39.355658%2C%20-104.869321%5D%2C%20%5B33.62894%2C%20-84.40039%5D%2C%20%5B34.077663%2C%20-117.998184%5D%2C%20%5B37.49268%2C%20-77.48839%5D%2C%20%5B38.899994%2C%20-94.841011%5D%2C%20%5B40.781555%2C%20-73.944397%5D%2C%20%5B33.257099%2C%20-82.00936899999998%5D%2C%20%5B40.71816%2C%20-111.87594%5D%2C%20%5B32.701237%2C%20-117.142868%5D%2C%20%5B33.386539%2C%20-111.649729%5D%2C%20%5B35.542076%2C%20-82.75277700000002%5D%2C%20%5B34.8312%2C%20-82.50202900000002%5D%2C%20%5B39.94883%2C%20-75.14161%5D%2C%20%5B46.925567%2C%20-95.015556%5D%2C%20%5B41.723057%2C%20-87.789787%5D%2C%20%5B47.23611500000001%2C%20-122.431523%5D%2C%20%5B33.929806%2C%20-117.415695%5D%2C%20%5B41.719662%2C%20-87.771378%5D%2C%20%5B34.172314%2C%20-118.57093799999998%5D%2C%20%5B45.459721%2C%20-122.57177%5D%2C%20%5B38.510334%2C%20-121.460068%5D%2C%20%5B45.523915%2C%20-122.8204%5D%2C%20%5B34.151989%2C%20-118.132248%5D%2C%20%5B33.065208%2C%20-112.047783%5D%2C%20%5B34.755871%2C%20-82.268311%5D%2C%20%5B40.594391%2C%20-74.232208%5D%2C%20%5B41.690498%2C%20-93.179993%5D%2C%20%5B40.779587%2C%20-73.57100799999998%5D%2C%20%5B37.92824%2C%20-122.38369%5D%2C%20%5B36.261639%2C%20-119.421188%5D%2C%20%5B33.298603%2C%20-111.876259%5D%2C%20%5B36.86343%2C%20-76.270599%5D%2C%20%5B44.34878300000001%2C%20-93.292966%5D%2C%20%5B34.02742%2C%20-118.037563%5D%2C%20%5B38.988643%2C%20-76.883236%5D%2C%20%5B32.731433%2C%20-117.154416%5D%2C%20%5B33.7878%2C%20-78.955238%5D%2C%20%5B34.146505%2C%20-118.369964%5D%2C%20%5B29.463433%2C%20-98.621295%5D%2C%20%5B41.787924%2C%20-88.074359%5D%2C%20%5B37.996761%2C%20-121.789482%5D%2C%20%5B30.430103000000006%2C%20-81.656334%5D%2C%20%5B36.03675%2C%20-79.78778%5D%2C%20%5B42.989426%2C%20-85.677212%5D%2C%20%5B41.583973%2C%20-88.16843399999998%5D%2C%20%5B42.490555%2C%20-83.116127%5D%2C%20%5B29.730892%2C%20-95.384331%5D%2C%20%5B40.987705%2C%20-73.67675799999998%5D%2C%20%5B46.676498%2C%20-95.962411%5D%2C%20%5B42.117775%2C%20-73.714386%5D%2C%20%5B27.903095%2C%20-82.636016%5D%2C%20%5B44.25633%2C%20-88.41537%5D%2C%20%5B45.35586%2C%20-122.60953700000002%5D%2C%20%5B41.218578%2C%20-77.222473%5D%2C%20%5B34.0958%2C%20-117.30201%5D%2C%20%5B35.214298%2C%20-90.03877299999998%5D%2C%20%5B34.938078999999995%2C%20-120.391506%5D%2C%20%5B38.67034%2C%20-77.2375%5D%2C%20%5B29.744549%2C%20-95.360794%5D%2C%20%5B34.247806%2C%20-118.425826%5D%2C%20%5B34.39079%2C%20-118.57027%5D%2C%20%5B30.643%2C%20-88.083591%5D%2C%20%5B30.27268%2C%20-82.122292%5D%2C%20%5B40.69057%2C%20-73.99886%5D%2C%20%5B26.7363%2C%20-80.11824%5D%2C%20%5B26.192631%2C%20-81.71923100000002%5D%2C%20%5B42.99934%2C%20-123.31757%5D%2C%20%5B34.401211%2C%20-117.372704%5D%2C%20%5B29.778257%2C%20-95.618973%5D%2C%20%5B42.347698%2C%20-71.078629%5D%2C%20%5B29.62178%2C%20-95.21701%5D%2C%20%5B38.85158%2C%20-77.333021%5D%2C%20%5B39.04724%2C%20-76.62167%5D%2C%20%5B25.82284%2C%20-80.32151999999998%5D%2C%20%5B40.699576%2C%20-74.156133%5D%2C%20%5B29.926926%2C%20-90.095572%5D%2C%20%5B42.988728%2C%20-83.690636%5D%2C%20%5B30.37096%2C%20-97.741783%5D%5D%2C%0A%20%20%20%20%20%20%20%20%20%20%20%20%20%20%20%20%7B%0A%20%20%20%20%20%20%20%20%20%20%20%20%20%20%20%20%20%20%20%20minOpacity%3A%200.5%2C%0A%20%20%20%20%20%20%20%20%20%20%20%20%20%20%20%20%20%20%20%20maxZoom%3A%2018%2C%0A%20%20%20%20%20%20%20%20%20%20%20%20%20%20%20%20%20%20%20%20max%3A%201.0%2C%0A%20%20%20%20%20%20%20%20%20%20%20%20%20%20%20%20%20%20%20%20radius%3A%2025%2C%0A%20%20%20%20%20%20%20%20%20%20%20%20%20%20%20%20%20%20%20%20blur%3A%2015%2C%0A%20%20%20%20%20%20%20%20%20%20%20%20%20%20%20%20%20%20%20%20gradient%3A%20null%0A%20%20%20%20%20%20%20%20%20%20%20%20%20%20%20%20%20%20%20%20%7D%29%0A%20%20%20%20%20%20%20%20%20%20%20%20%20%20%20%20.addTo%28map_512bd324517f4c2b9a1cbb3aa928b613%29%3B%0A%20%20%20%20%20%20%20%20%0A%3C/script%3E onload=\"this.contentDocument.open();this.contentDocument.write(    decodeURIComponent(this.getAttribute('data-html')));this.contentDocument.close();\" allowfullscreen webkitallowfullscreen mozallowfullscreen></iframe></div></div>"
            ],
            "text/plain": [
              "<folium.folium.Map at 0x7f36175ef710>"
            ]
          },
          "metadata": {
            "tags": []
          },
          "execution_count": 61
        }
      ]
    },
    {
      "cell_type": "code",
      "metadata": {
        "id": "D7dA7iNIQcAV"
      },
      "source": [
        ""
      ],
      "execution_count": 61,
      "outputs": []
    },
    {
      "cell_type": "code",
      "metadata": {
        "id": "kFAVfQiCQb4c"
      },
      "source": [
        ""
      ],
      "execution_count": 61,
      "outputs": []
    },
    {
      "cell_type": "markdown",
      "metadata": {
        "id": "lZbq_C9A9UPi"
      },
      "source": [
        "##Ask & Answere Questions\n",
        "\n",
        "1. Are there more accidents in warmer or colder area?\n",
        "2. Which 5 states have the highest number of accidents? How about per capita?\n",
        "3. Does New York show up in the data? if Yes, why is the count lower if this the most populated city\n",
        "4. Among the top 100 cities in number of accidents, which states do they belong to most frequently.\n",
        "5. What time of the day are accidents are most frequently occurs \n",
        "6. Which day of the week have the most accidents.\n",
        "7. Which months have the most accidents?\n",
        "8. What trends of the trend of accidents year over year (decreasing or Increasing)?\n",
        "9. When is accidents per unit of traffic are highest.\n"
      ]
    },
    {
      "cell_type": "code",
      "metadata": {
        "id": "X_fGmXAq9eSi"
      },
      "source": [
        ""
      ],
      "execution_count": 61,
      "outputs": []
    },
    {
      "cell_type": "code",
      "metadata": {
        "id": "s4EKS1009eHj"
      },
      "source": [
        ""
      ],
      "execution_count": 61,
      "outputs": []
    },
    {
      "cell_type": "code",
      "metadata": {
        "id": "RVsCQh35X45e"
      },
      "source": [
        ""
      ],
      "execution_count": 61,
      "outputs": []
    },
    {
      "cell_type": "code",
      "metadata": {
        "id": "gB8zZ9TI9d6o"
      },
      "source": [
        ""
      ],
      "execution_count": 61,
      "outputs": []
    },
    {
      "cell_type": "markdown",
      "metadata": {
        "id": "CUf35j9n9fBk"
      },
      "source": [
        "##- Summarize your inferences and write a conclusion\n",
        "\n",
        "Insights\n",
        "1.   No Data for New York \n",
        "2.   Nmber of accidents per cities decreases/Increases exponentially \n",
        "2.   less then 5 % of cities have more than 1000 yearly accidents\n",
        "3.   Over 1300 cities have reported just one accidents (Need to investigate)\n",
        "\n"
      ]
    },
    {
      "cell_type": "markdown",
      "metadata": {
        "id": "XFqFUYaEi6Fe"
      },
      "source": [
        ""
      ]
    },
    {
      "cell_type": "code",
      "metadata": {
        "id": "Di2xQG4mt_tq"
      },
      "source": [
        ""
      ],
      "execution_count": 61,
      "outputs": []
    }
  ]
}